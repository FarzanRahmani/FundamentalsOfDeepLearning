{
 "cells": [
  {
   "cell_type": "code",
   "execution_count": 13,
   "id": "823d30549a4be2cc",
   "metadata": {
    "ExecuteTime": {
     "end_time": "2024-02-01T01:24:44.242467400Z",
     "start_time": "2024-02-01T01:24:44.238169200Z"
    },
    "collapsed": false
   },
   "outputs": [],
   "source": [
    "import os\n",
    "\n",
    "import pandas as pd\n",
    "import torch\n",
    "from sklearn.model_selection import train_test_split\n",
    "from tqdm import tqdm\n",
    "\n",
    "from utils.constants import base_path, label_dict\n",
    "from utils.parsbert import train_parsbert_with_l2, test_parsbert, predict_parsbert\n",
    "from utils.preprocess import clean_text"
   ]
  },
  {
   "cell_type": "markdown",
   "id": "7d623e4f130c7eee",
   "metadata": {
    "collapsed": false
   },
   "source": [
    "# Load raw datasets"
   ]
  },
  {
   "cell_type": "code",
   "execution_count": 14,
   "id": "initial_id",
   "metadata": {
    "ExecuteTime": {
     "end_time": "2024-02-01T01:24:45.693157600Z",
     "start_time": "2024-02-01T01:24:45.594597800Z"
    },
    "collapsed": true
   },
   "outputs": [
    {
     "name": "stdout",
     "output_type": "stream",
     "text": [
      "['SAD' 'HATE' 'OTHER' 'FEAR' 'ANGRY' 'HAPPY' 'SURPRISE']\n",
      "['SAD' 'HAPPY' 'OTHER' 'SURPRISE' 'FEAR' 'HATE' 'ANGRY']\n",
      "True\n",
      "**************************************************\n",
      "{'HAPPY': 0, 'SAD': 1, 'ANGRY': 2, 'FEAR': 3, 'SURPRISE': 4, 'HATE': 5, 'OTHER': 6}\n",
      "خیلی کوچیک هستن و سایزشون بدرد نمیخوره میخوام پس بدم\n",
      "SAD\n",
      "**************************************************\n",
      "sentence    object\n",
      "label       object\n",
      "dtype: object\n"
     ]
    }
   ],
   "source": [
    "pd.set_option('future.no_silent_downcasting', True)  # noqa\n",
    "\n",
    "# Load datasets\n",
    "train_df = pd.read_csv(f\"{base_path}/data/train.tsv\", sep=\"\\t\", header=None, names=[\"sentence\", \"label\"])\n",
    "test_df = pd.read_csv(f\"{base_path}/data/test.tsv\", sep=\"\\t\", header=None, names=[\"sentence\", \"label\"])\n",
    "\n",
    "# print distinct labels\n",
    "print(train_df.label.unique())\n",
    "print(test_df.label.unique())\n",
    "print(set(train_df.label.unique()) == set(test_df.label.unique()))\n",
    "print('*' * 50)\n",
    "\n",
    "print(label_dict)\n",
    "print(train_df.loc[0, \"sentence\"])\n",
    "print(train_df.loc[0, \"label\"])\n",
    "print('*' * 50)\n",
    "\n",
    "print(train_df.dtypes)"
   ]
  },
  {
   "cell_type": "code",
   "execution_count": 15,
   "id": "6dbe54116361abf8",
   "metadata": {
    "ExecuteTime": {
     "end_time": "2024-02-01T01:24:46.847963200Z",
     "start_time": "2024-02-01T01:24:46.776992800Z"
    },
    "collapsed": false
   },
   "outputs": [],
   "source": [
    "# clean data and save\n",
    "tqdm.pandas()\n",
    "if not os.path.exists(f\"{base_path}/data/train_cleaned.tsv\"):\n",
    "    train_df['sentence'] = train_df['sentence'].progress_apply(clean_text)\n",
    "    train_df.to_csv(f\"{base_path}/data/train_cleaned.tsv\", sep=\"\\t\", index=False)\n",
    "if not os.path.exists(f\"{base_path}/data/test_cleaned.tsv\"):\n",
    "    test_df['sentence'] = test_df['sentence'].progress_apply(clean_text)\n",
    "    test_df.to_csv(f\"{base_path}/data/test_cleaned.tsv\", sep=\"\\t\", index=False)\n",
    "\n",
    "# Function to apply preprocessing in parallel using joblib\n",
    "# def parallel_apply(df, func):\n",
    "#     processed_sentences = Parallel(n_jobs=-1)(\n",
    "#         delayed(func)(text=sentence) for sentence in df['sentence'])\n",
    "#     return processed_sentences\n",
    "# \n",
    "# \n",
    "# if not os.path.exists(f\"{base_path}/data/train_cleaned.tsv\"):\n",
    "#     train_df['sentence'] = parallel_apply(train_df, combined_preprocess)\n",
    "# \n",
    "# if not os.path.exists(f\"{base_path}/data/test_cleaned.tsv\"):\n",
    "#     test_df['sentence'] = parallel_apply(test_df, combined_preprocess)"
   ]
  },
  {
   "cell_type": "markdown",
   "id": "6158150e7fc15b79",
   "metadata": {
    "collapsed": false
   },
   "source": [
    "# Load cleaned datasets"
   ]
  },
  {
   "cell_type": "code",
   "execution_count": 16,
   "id": "fb79f3b9d7793c4b",
   "metadata": {
    "ExecuteTime": {
     "end_time": "2024-02-01T01:24:50.358727300Z",
     "start_time": "2024-02-01T01:24:50.273032600Z"
    },
    "collapsed": false
   },
   "outputs": [
    {
     "name": "stdout",
     "output_type": "stream",
     "text": [
      "0    خیلی کوچیک هستن و سایزشون بدرد نمیخوره میخوام ...\n",
      "1       از صدای پرنده دم دمای صبح متنفرم متنفرم متنفرم\n",
      "2    کیفیتش خیلی خوبه با شک خریدم ولی واقعا راضیم ب...\n",
      "3    چون همش با دوربین ثبت‌شده ایا میشه اعتراض زد؟؟...\n",
      "4                    این وضع ب طرز خنده داری گریه داره\n",
      "5    خب من رسما از یک نفر متنفرم چون از گربه بدش می...\n",
      "Name: sentence, dtype: object\n",
      "0    این شاید اولین عزای عمومی واقعی است که یاد دار...\n",
      "1    دیشب بعد از ارسال تویت مربوط به آثار باستانی ت...\n",
      "2    کدوم شعبه پول نداده بگو الان برات آمار دقیق بد...\n",
      "3    امروز وسط یه بحث با بابا مامانم گفتم آدم باید ...\n",
      "4    امشب گفت نامزدی دوستش که ادم روشنفکری است بهم ...\n",
      "5    به امید موفقیت تیم ملی و پیروزی در بازی امروز ...\n",
      "Name: sentence, dtype: object\n",
      "با آرزوی موفقیت و پیروزی\n"
     ]
    }
   ],
   "source": [
    "# First row is header\n",
    "train_df = pd.read_csv(f\"{base_path}/data/train_cleaned.tsv\", sep=\"\\t\")\n",
    "test_df = pd.read_csv(f\"{base_path}/data/test_cleaned.tsv\", sep=\"\\t\")\n",
    "\n",
    "print(train_df.loc[0:5, \"sentence\"])\n",
    "print(test_df.loc[0:5, \"sentence\"])\n",
    "print(test_df.loc[6, \"sentence\"])"
   ]
  },
  {
   "cell_type": "code",
   "execution_count": 17,
   "id": "7ed7e8697414fbf8",
   "metadata": {
    "ExecuteTime": {
     "end_time": "2024-02-01T01:24:53.945940700Z",
     "start_time": "2024-02-01T01:24:53.898174300Z"
    },
    "collapsed": false
   },
   "outputs": [
    {
     "name": "stdout",
     "output_type": "stream",
     "text": [
      "Number of training sentences: 4900\n",
      "Number of validation sentences: 1225\n",
      "Number of test sentences: 1151\n"
     ]
    }
   ],
   "source": [
    "# Split train dataset for validation\n",
    "train_sentences, val_sentences, train_labels, val_labels = train_test_split(\n",
    "    train_df['sentence'], train_df['label'], test_size=0.2, random_state=42\n",
    ")\n",
    "print(f\"Number of training sentences: {len(train_sentences)}\")\n",
    "print(f\"Number of validation sentences: {len(val_sentences)}\")\n",
    "print(f\"Number of test sentences: {len(test_df)}\")"
   ]
  },
  {
   "cell_type": "code",
   "execution_count": 18,
   "id": "d35d5fea13e2e8b5",
   "metadata": {
    "ExecuteTime": {
     "end_time": "2024-02-01T01:24:55.517821200Z",
     "start_time": "2024-02-01T01:24:55.469346200Z"
    },
    "collapsed": false
   },
   "outputs": [
    {
     "name": "stdout",
     "output_type": "stream",
     "text": [
      "Train counts: {'OTHER': 1310, 'ANGRY': 742, 'SAD': 726, 'FEAR': 622, 'SURPRISE': 595, 'HAPPY': 503, 'HATE': 402}\n",
      "Val counts: {'OTHER': 371, 'ANGRY': 181, 'SAD': 170, 'SURPRISE': 144, 'FEAR': 135, 'HAPPY': 115, 'HATE': 109}\n",
      "Test counts: {'HAPPY': 275, 'SAD': 262, 'OTHER': 193, 'ANGRY': 154, 'SURPRISE': 145, 'HATE': 65, 'FEAR': 57}\n"
     ]
    }
   ],
   "source": [
    "# write each label count per dataset\n",
    "print(f\"Train counts: {train_labels.value_counts().to_dict()}\")\n",
    "print(f\"Val counts: {val_labels.value_counts().to_dict()}\")\n",
    "print(f\"Test counts: {test_df['label'].value_counts().to_dict()}\")"
   ]
  },
  {
   "cell_type": "markdown",
   "id": "2de0defb45e06ef0",
   "metadata": {
    "collapsed": false
   },
   "source": [
    "# Load the tokenizer and model"
   ]
  },
  {
   "cell_type": "code",
   "execution_count": 19,
   "id": "3ece4f0b76fb0a27",
   "metadata": {
    "ExecuteTime": {
     "end_time": "2024-02-01T01:24:58.532136400Z",
     "start_time": "2024-02-01T01:24:58.525887100Z"
    },
    "collapsed": false
   },
   "outputs": [],
   "source": [
    "model_names = [\n",
    "    'HooshvareLab/bert-fa-base-uncased-sentiment-snappfood',  # noqa\n",
    "    'HooshvareLab/bert-fa-base-uncased-sentiment-digikala',  # noqa\n",
    "    'HooshvareLab/bert-fa-base-uncased',  # noqa\n",
    "    'HooshvareLab/bert-fa-zwnj-base'  # ParsBERT (v3.0) # noqa\n",
    "]\n",
    "cache_dir = f'{base_path}/models/huggingface_cache'"
   ]
  },
  {
   "cell_type": "markdown",
   "id": "4ec709b2c3a4ee8a",
   "metadata": {
    "collapsed": false
   },
   "source": [
    "# Set up the training arguments"
   ]
  },
  {
   "cell_type": "code",
   "execution_count": 8,
   "id": "4dbcf0f87760d7a7",
   "metadata": {
    "ExecuteTime": {
     "end_time": "2024-02-01T01:22:28.833168900Z",
     "start_time": "2024-01-31T21:49:24.661321600Z"
    },
    "collapsed": false
   },
   "outputs": [
    {
     "name": "stdout",
     "output_type": "stream",
     "text": [
      "Device: cuda\n",
      "Model name: HooshvareLab/bert-fa-base-uncased-sentiment-snappfood\n"
     ]
    },
    {
     "name": "stderr",
     "output_type": "stream",
     "text": [
      "/home/hamedhf/anaconda3/envs/DL-project/lib/python3.11/site-packages/torch/_utils.py:831: UserWarning: TypedStorage is deprecated. It will be removed in the future and UntypedStorage will be the only storage class. This should only matter to you if you are using storages directly.  To access UntypedStorage directly, use tensor.untyped_storage() instead of tensor.storage()\n",
      "  return self.fget.__get__(instance, owner)()\n",
      "Some weights of BertForSequenceClassification were not initialized from the model checkpoint at HooshvareLab/bert-fa-base-uncased-sentiment-snappfood and are newly initialized because the shapes did not match:\n",
      "- classifier.weight: found shape torch.Size([2, 768]) in the checkpoint and torch.Size([7, 768]) in the model instantiated\n",
      "- classifier.bias: found shape torch.Size([2]) in the checkpoint and torch.Size([7]) in the model instantiated\n",
      "You should probably TRAIN this model on a down-stream task to be able to use it for predictions and inference.\n",
      "Training Epoch 1: 100%|\u001b[32m██████████\u001b[0m| 613/613 [04:00<00:00,  2.55it/s]\n"
     ]
    },
    {
     "name": "stdout",
     "output_type": "stream",
     "text": [
      "Epoch 1: Train Loss: 1.2418 | Train Accuracy: 0.5476\n"
     ]
    },
    {
     "name": "stderr",
     "output_type": "stream",
     "text": [
      "Validation Epoch 1: 100%|\u001b[33m██████████\u001b[0m| 154/154 [00:21<00:00,  7.20it/s]\n"
     ]
    },
    {
     "name": "stdout",
     "output_type": "stream",
     "text": [
      "Epoch 1: Val Loss: 0.8907 | Val Accuracy: 0.6751\n",
      "**************************************************\n",
      "Epoch 1: New best model saved with val_loss 0.8907 & val_acc 0.6751\n"
     ]
    },
    {
     "name": "stderr",
     "output_type": "stream",
     "text": [
      "Training Epoch 2: 100%|\u001b[32m██████████\u001b[0m| 613/613 [04:06<00:00,  2.49it/s]\n"
     ]
    },
    {
     "name": "stdout",
     "output_type": "stream",
     "text": [
      "Epoch 2: Train Loss: 0.6975 | Train Accuracy: 0.7669\n"
     ]
    },
    {
     "name": "stderr",
     "output_type": "stream",
     "text": [
      "Validation Epoch 2: 100%|\u001b[33m██████████\u001b[0m| 154/154 [00:21<00:00,  7.17it/s]\n"
     ]
    },
    {
     "name": "stdout",
     "output_type": "stream",
     "text": [
      "Epoch 2: Val Loss: 0.8878 | Val Accuracy: 0.7012\n",
      "**************************************************\n",
      "Epoch 2: New best model saved with val_loss 0.8878 & val_acc 0.7012\n"
     ]
    },
    {
     "name": "stderr",
     "output_type": "stream",
     "text": [
      "Training Epoch 3: 100%|\u001b[32m██████████\u001b[0m| 613/613 [04:03<00:00,  2.52it/s]\n"
     ]
    },
    {
     "name": "stdout",
     "output_type": "stream",
     "text": [
      "Epoch 3: Train Loss: 0.3487 | Train Accuracy: 0.8912\n"
     ]
    },
    {
     "name": "stderr",
     "output_type": "stream",
     "text": [
      "Validation Epoch 3: 100%|\u001b[33m██████████\u001b[0m| 154/154 [00:21<00:00,  7.21it/s]\n"
     ]
    },
    {
     "name": "stdout",
     "output_type": "stream",
     "text": [
      "Epoch 3: Val Loss: 1.0828 | Val Accuracy: 0.6694\n",
      "**************************************************\n"
     ]
    },
    {
     "name": "stderr",
     "output_type": "stream",
     "text": [
      "Training Epoch 4: 100%|\u001b[32m██████████\u001b[0m| 613/613 [04:01<00:00,  2.54it/s]\n"
     ]
    },
    {
     "name": "stdout",
     "output_type": "stream",
     "text": [
      "Epoch 4: Train Loss: 0.1558 | Train Accuracy: 0.9563\n"
     ]
    },
    {
     "name": "stderr",
     "output_type": "stream",
     "text": [
      "Validation Epoch 4: 100%|\u001b[33m██████████\u001b[0m| 154/154 [00:21<00:00,  7.28it/s]\n"
     ]
    },
    {
     "name": "stdout",
     "output_type": "stream",
     "text": [
      "Epoch 4: Val Loss: 1.1738 | Val Accuracy: 0.6873\n",
      "**************************************************\n"
     ]
    },
    {
     "name": "stderr",
     "output_type": "stream",
     "text": [
      "Training Epoch 5: 100%|\u001b[32m██████████\u001b[0m| 613/613 [04:03<00:00,  2.51it/s]\n"
     ]
    },
    {
     "name": "stdout",
     "output_type": "stream",
     "text": [
      "Epoch 5: Train Loss: 0.0693 | Train Accuracy: 0.9831\n"
     ]
    },
    {
     "name": "stderr",
     "output_type": "stream",
     "text": [
      "Validation Epoch 5: 100%|\u001b[33m██████████\u001b[0m| 154/154 [00:19<00:00,  7.93it/s]\n"
     ]
    },
    {
     "name": "stdout",
     "output_type": "stream",
     "text": [
      "Epoch 5: Val Loss: 1.3210 | Val Accuracy: 0.6873\n",
      "**************************************************\n"
     ]
    },
    {
     "name": "stderr",
     "output_type": "stream",
     "text": [
      "Training Epoch 6: 100%|\u001b[32m██████████\u001b[0m| 613/613 [04:06<00:00,  2.49it/s]\n"
     ]
    },
    {
     "name": "stdout",
     "output_type": "stream",
     "text": [
      "Epoch 6: Train Loss: 0.0402 | Train Accuracy: 0.9898\n"
     ]
    },
    {
     "name": "stderr",
     "output_type": "stream",
     "text": [
      "Validation Epoch 6: 100%|\u001b[33m██████████\u001b[0m| 154/154 [00:21<00:00,  7.18it/s]\n"
     ]
    },
    {
     "name": "stdout",
     "output_type": "stream",
     "text": [
      "Epoch 6: Val Loss: 1.4222 | Val Accuracy: 0.6849\n",
      "**************************************************\n"
     ]
    },
    {
     "name": "stderr",
     "output_type": "stream",
     "text": [
      "Training Epoch 7: 100%|\u001b[32m██████████\u001b[0m| 613/613 [04:07<00:00,  2.48it/s]\n"
     ]
    },
    {
     "name": "stdout",
     "output_type": "stream",
     "text": [
      "Epoch 7: Train Loss: 0.0273 | Train Accuracy: 0.9933\n"
     ]
    },
    {
     "name": "stderr",
     "output_type": "stream",
     "text": [
      "Validation Epoch 7: 100%|\u001b[33m██████████\u001b[0m| 154/154 [00:19<00:00,  7.88it/s]\n"
     ]
    },
    {
     "name": "stdout",
     "output_type": "stream",
     "text": [
      "Epoch 7: Val Loss: 1.6074 | Val Accuracy: 0.6751\n",
      "**************************************************\n"
     ]
    },
    {
     "name": "stderr",
     "output_type": "stream",
     "text": [
      "Training Epoch 8: 100%|\u001b[32m██████████\u001b[0m| 613/613 [04:06<00:00,  2.49it/s]\n"
     ]
    },
    {
     "name": "stdout",
     "output_type": "stream",
     "text": [
      "Epoch 8: Train Loss: 0.0233 | Train Accuracy: 0.9945\n"
     ]
    },
    {
     "name": "stderr",
     "output_type": "stream",
     "text": [
      "Validation Epoch 8: 100%|\u001b[33m██████████\u001b[0m| 154/154 [00:19<00:00,  7.87it/s]\n"
     ]
    },
    {
     "name": "stdout",
     "output_type": "stream",
     "text": [
      "Epoch 8: Val Loss: 1.4597 | Val Accuracy: 0.6996\n",
      "**************************************************\n"
     ]
    },
    {
     "name": "stderr",
     "output_type": "stream",
     "text": [
      "Training Epoch 9: 100%|\u001b[32m██████████\u001b[0m| 613/613 [04:06<00:00,  2.49it/s]\n"
     ]
    },
    {
     "name": "stdout",
     "output_type": "stream",
     "text": [
      "Epoch 9: Train Loss: 0.0157 | Train Accuracy: 0.9963\n"
     ]
    },
    {
     "name": "stderr",
     "output_type": "stream",
     "text": [
      "Validation Epoch 9: 100%|\u001b[33m██████████\u001b[0m| 154/154 [00:21<00:00,  7.30it/s]\n"
     ]
    },
    {
     "name": "stdout",
     "output_type": "stream",
     "text": [
      "Epoch 9: Val Loss: 1.5577 | Val Accuracy: 0.6996\n",
      "**************************************************\n"
     ]
    },
    {
     "name": "stderr",
     "output_type": "stream",
     "text": [
      "Training Epoch 10: 100%|\u001b[32m██████████\u001b[0m| 613/613 [04:05<00:00,  2.50it/s]\n"
     ]
    },
    {
     "name": "stdout",
     "output_type": "stream",
     "text": [
      "Epoch 10: Train Loss: 0.0134 | Train Accuracy: 0.9963\n"
     ]
    },
    {
     "name": "stderr",
     "output_type": "stream",
     "text": [
      "Validation Epoch 10: 100%|\u001b[33m██████████\u001b[0m| 154/154 [00:21<00:00,  7.23it/s]\n"
     ]
    },
    {
     "name": "stdout",
     "output_type": "stream",
     "text": [
      "Epoch 10: Val Loss: 1.5429 | Val Accuracy: 0.6988\n",
      "**************************************************\n"
     ]
    },
    {
     "name": "stderr",
     "output_type": "stream",
     "text": [
      "Training Epoch 11: 100%|\u001b[32m██████████\u001b[0m| 613/613 [04:05<00:00,  2.49it/s]\n"
     ]
    },
    {
     "name": "stdout",
     "output_type": "stream",
     "text": [
      "Epoch 11: Train Loss: 0.0074 | Train Accuracy: 0.9980\n"
     ]
    },
    {
     "name": "stderr",
     "output_type": "stream",
     "text": [
      "Validation Epoch 11: 100%|\u001b[33m██████████\u001b[0m| 154/154 [00:21<00:00,  7.22it/s]\n"
     ]
    },
    {
     "name": "stdout",
     "output_type": "stream",
     "text": [
      "Epoch 11: Val Loss: 1.5669 | Val Accuracy: 0.6963\n",
      "**************************************************\n"
     ]
    },
    {
     "name": "stderr",
     "output_type": "stream",
     "text": [
      "Training Epoch 12: 100%|\u001b[32m██████████\u001b[0m| 613/613 [04:07<00:00,  2.48it/s]\n"
     ]
    },
    {
     "name": "stdout",
     "output_type": "stream",
     "text": [
      "Epoch 12: Train Loss: 0.0065 | Train Accuracy: 0.9986\n"
     ]
    },
    {
     "name": "stderr",
     "output_type": "stream",
     "text": [
      "Validation Epoch 12: 100%|\u001b[33m██████████\u001b[0m| 154/154 [00:20<00:00,  7.66it/s]\n"
     ]
    },
    {
     "name": "stdout",
     "output_type": "stream",
     "text": [
      "Epoch 12: Val Loss: 1.5657 | Val Accuracy: 0.7004\n",
      "**************************************************\n",
      "Model name: HooshvareLab/bert-fa-base-uncased-sentiment-digikala\n"
     ]
    },
    {
     "name": "stderr",
     "output_type": "stream",
     "text": [
      "Some weights of BertForSequenceClassification were not initialized from the model checkpoint at HooshvareLab/bert-fa-base-uncased-sentiment-digikala and are newly initialized because the shapes did not match:\n",
      "- classifier.weight: found shape torch.Size([3, 768]) in the checkpoint and torch.Size([7, 768]) in the model instantiated\n",
      "- classifier.bias: found shape torch.Size([3]) in the checkpoint and torch.Size([7]) in the model instantiated\n",
      "You should probably TRAIN this model on a down-stream task to be able to use it for predictions and inference.\n",
      "Training Epoch 1: 100%|\u001b[32m██████████\u001b[0m| 613/613 [04:07<00:00,  2.48it/s]\n"
     ]
    },
    {
     "name": "stdout",
     "output_type": "stream",
     "text": [
      "Epoch 1: Train Loss: 1.2131 | Train Accuracy: 0.5594\n"
     ]
    },
    {
     "name": "stderr",
     "output_type": "stream",
     "text": [
      "Validation Epoch 1: 100%|\u001b[33m██████████\u001b[0m| 154/154 [00:21<00:00,  7.25it/s]\n"
     ]
    },
    {
     "name": "stdout",
     "output_type": "stream",
     "text": [
      "Epoch 1: Val Loss: 0.8837 | Val Accuracy: 0.6849\n",
      "**************************************************\n",
      "Epoch 1: New best model saved with val_loss 0.8837 & val_acc 0.6849\n"
     ]
    },
    {
     "name": "stderr",
     "output_type": "stream",
     "text": [
      "Training Epoch 2: 100%|\u001b[32m██████████\u001b[0m| 613/613 [04:09<00:00,  2.46it/s]\n"
     ]
    },
    {
     "name": "stdout",
     "output_type": "stream",
     "text": [
      "Epoch 2: Train Loss: 0.6827 | Train Accuracy: 0.7653\n"
     ]
    },
    {
     "name": "stderr",
     "output_type": "stream",
     "text": [
      "Validation Epoch 2: 100%|\u001b[33m██████████\u001b[0m| 154/154 [00:21<00:00,  7.22it/s]\n"
     ]
    },
    {
     "name": "stdout",
     "output_type": "stream",
     "text": [
      "Epoch 2: Val Loss: 0.9185 | Val Accuracy: 0.6808\n",
      "**************************************************\n"
     ]
    },
    {
     "name": "stderr",
     "output_type": "stream",
     "text": [
      "Training Epoch 3: 100%|\u001b[32m██████████\u001b[0m| 613/613 [04:07<00:00,  2.48it/s]\n"
     ]
    },
    {
     "name": "stdout",
     "output_type": "stream",
     "text": [
      "Epoch 3: Train Loss: 0.3159 | Train Accuracy: 0.9037\n"
     ]
    },
    {
     "name": "stderr",
     "output_type": "stream",
     "text": [
      "Validation Epoch 3: 100%|\u001b[33m██████████\u001b[0m| 154/154 [00:21<00:00,  7.32it/s]\n"
     ]
    },
    {
     "name": "stdout",
     "output_type": "stream",
     "text": [
      "Epoch 3: Val Loss: 1.0469 | Val Accuracy: 0.6841\n",
      "**************************************************\n"
     ]
    },
    {
     "name": "stderr",
     "output_type": "stream",
     "text": [
      "Training Epoch 4: 100%|\u001b[32m██████████\u001b[0m| 613/613 [04:07<00:00,  2.48it/s]\n"
     ]
    },
    {
     "name": "stdout",
     "output_type": "stream",
     "text": [
      "Epoch 4: Train Loss: 0.1327 | Train Accuracy: 0.9643\n"
     ]
    },
    {
     "name": "stderr",
     "output_type": "stream",
     "text": [
      "Validation Epoch 4: 100%|\u001b[33m██████████\u001b[0m| 154/154 [00:21<00:00,  7.31it/s]\n"
     ]
    },
    {
     "name": "stdout",
     "output_type": "stream",
     "text": [
      "Epoch 4: Val Loss: 1.1876 | Val Accuracy: 0.6873\n",
      "**************************************************\n"
     ]
    },
    {
     "name": "stderr",
     "output_type": "stream",
     "text": [
      "Training Epoch 5: 100%|\u001b[32m██████████\u001b[0m| 613/613 [04:07<00:00,  2.48it/s]\n"
     ]
    },
    {
     "name": "stdout",
     "output_type": "stream",
     "text": [
      "Epoch 5: Train Loss: 0.0690 | Train Accuracy: 0.9808\n"
     ]
    },
    {
     "name": "stderr",
     "output_type": "stream",
     "text": [
      "Validation Epoch 5: 100%|\u001b[33m██████████\u001b[0m| 154/154 [00:20<00:00,  7.34it/s]\n"
     ]
    },
    {
     "name": "stdout",
     "output_type": "stream",
     "text": [
      "Epoch 5: Val Loss: 1.3651 | Val Accuracy: 0.6857\n",
      "**************************************************\n"
     ]
    },
    {
     "name": "stderr",
     "output_type": "stream",
     "text": [
      "Training Epoch 6: 100%|\u001b[32m██████████\u001b[0m| 613/613 [04:07<00:00,  2.48it/s]\n"
     ]
    },
    {
     "name": "stdout",
     "output_type": "stream",
     "text": [
      "Epoch 6: Train Loss: 0.0355 | Train Accuracy: 0.9910\n"
     ]
    },
    {
     "name": "stderr",
     "output_type": "stream",
     "text": [
      "Validation Epoch 6: 100%|\u001b[33m██████████\u001b[0m| 154/154 [00:21<00:00,  7.31it/s]\n"
     ]
    },
    {
     "name": "stdout",
     "output_type": "stream",
     "text": [
      "Epoch 6: Val Loss: 1.4174 | Val Accuracy: 0.6931\n",
      "**************************************************\n"
     ]
    },
    {
     "name": "stderr",
     "output_type": "stream",
     "text": [
      "Training Epoch 7: 100%|\u001b[32m██████████\u001b[0m| 613/613 [04:07<00:00,  2.48it/s]\n"
     ]
    },
    {
     "name": "stdout",
     "output_type": "stream",
     "text": [
      "Epoch 7: Train Loss: 0.0249 | Train Accuracy: 0.9945\n"
     ]
    },
    {
     "name": "stderr",
     "output_type": "stream",
     "text": [
      "Validation Epoch 7: 100%|\u001b[33m██████████\u001b[0m| 154/154 [00:21<00:00,  7.31it/s]\n"
     ]
    },
    {
     "name": "stdout",
     "output_type": "stream",
     "text": [
      "Epoch 7: Val Loss: 1.4393 | Val Accuracy: 0.6963\n",
      "**************************************************\n"
     ]
    },
    {
     "name": "stderr",
     "output_type": "stream",
     "text": [
      "Training Epoch 8: 100%|\u001b[32m██████████\u001b[0m| 613/613 [04:07<00:00,  2.47it/s]\n"
     ]
    },
    {
     "name": "stdout",
     "output_type": "stream",
     "text": [
      "Epoch 8: Train Loss: 0.0146 | Train Accuracy: 0.9971\n"
     ]
    },
    {
     "name": "stderr",
     "output_type": "stream",
     "text": [
      "Validation Epoch 8: 100%|\u001b[33m██████████\u001b[0m| 154/154 [00:21<00:00,  7.33it/s]\n"
     ]
    },
    {
     "name": "stdout",
     "output_type": "stream",
     "text": [
      "Epoch 8: Val Loss: 1.5431 | Val Accuracy: 0.6816\n",
      "**************************************************\n"
     ]
    },
    {
     "name": "stderr",
     "output_type": "stream",
     "text": [
      "Training Epoch 9: 100%|\u001b[32m██████████\u001b[0m| 613/613 [04:07<00:00,  2.47it/s]\n"
     ]
    },
    {
     "name": "stdout",
     "output_type": "stream",
     "text": [
      "Epoch 9: Train Loss: 0.0158 | Train Accuracy: 0.9961\n"
     ]
    },
    {
     "name": "stderr",
     "output_type": "stream",
     "text": [
      "Validation Epoch 9: 100%|\u001b[33m██████████\u001b[0m| 154/154 [00:21<00:00,  7.32it/s]\n"
     ]
    },
    {
     "name": "stdout",
     "output_type": "stream",
     "text": [
      "Epoch 9: Val Loss: 1.5649 | Val Accuracy: 0.6906\n",
      "**************************************************\n"
     ]
    },
    {
     "name": "stderr",
     "output_type": "stream",
     "text": [
      "Training Epoch 10: 100%|\u001b[32m██████████\u001b[0m| 613/613 [04:07<00:00,  2.48it/s]\n"
     ]
    },
    {
     "name": "stdout",
     "output_type": "stream",
     "text": [
      "Epoch 10: Train Loss: 0.0120 | Train Accuracy: 0.9969\n"
     ]
    },
    {
     "name": "stderr",
     "output_type": "stream",
     "text": [
      "Validation Epoch 10: 100%|\u001b[33m██████████\u001b[0m| 154/154 [00:20<00:00,  7.35it/s]\n"
     ]
    },
    {
     "name": "stdout",
     "output_type": "stream",
     "text": [
      "Epoch 10: Val Loss: 1.5580 | Val Accuracy: 0.7037\n",
      "**************************************************\n"
     ]
    },
    {
     "name": "stderr",
     "output_type": "stream",
     "text": [
      "Training Epoch 11: 100%|\u001b[32m██████████\u001b[0m| 613/613 [04:07<00:00,  2.48it/s]\n"
     ]
    },
    {
     "name": "stdout",
     "output_type": "stream",
     "text": [
      "Epoch 11: Train Loss: 0.0076 | Train Accuracy: 0.9978\n"
     ]
    },
    {
     "name": "stderr",
     "output_type": "stream",
     "text": [
      "Validation Epoch 11: 100%|\u001b[33m██████████\u001b[0m| 154/154 [00:21<00:00,  7.33it/s]\n"
     ]
    },
    {
     "name": "stdout",
     "output_type": "stream",
     "text": [
      "Epoch 11: Val Loss: 1.5853 | Val Accuracy: 0.6963\n",
      "**************************************************\n"
     ]
    },
    {
     "name": "stderr",
     "output_type": "stream",
     "text": [
      "Training Epoch 12: 100%|\u001b[32m██████████\u001b[0m| 613/613 [04:07<00:00,  2.48it/s]\n"
     ]
    },
    {
     "name": "stdout",
     "output_type": "stream",
     "text": [
      "Epoch 12: Train Loss: 0.0060 | Train Accuracy: 0.9980\n"
     ]
    },
    {
     "name": "stderr",
     "output_type": "stream",
     "text": [
      "Validation Epoch 12: 100%|\u001b[33m██████████\u001b[0m| 154/154 [00:20<00:00,  7.34it/s]\n"
     ]
    },
    {
     "name": "stdout",
     "output_type": "stream",
     "text": [
      "Epoch 12: Val Loss: 1.5983 | Val Accuracy: 0.6963\n",
      "**************************************************\n",
      "Model name: HooshvareLab/bert-fa-base-uncased\n"
     ]
    },
    {
     "name": "stderr",
     "output_type": "stream",
     "text": [
      "Some weights of BertForSequenceClassification were not initialized from the model checkpoint at HooshvareLab/bert-fa-base-uncased and are newly initialized: ['classifier.bias', 'classifier.weight']\n",
      "You should probably TRAIN this model on a down-stream task to be able to use it for predictions and inference.\n",
      "Training Epoch 1: 100%|\u001b[32m██████████\u001b[0m| 613/613 [04:02<00:00,  2.53it/s]\n"
     ]
    },
    {
     "name": "stdout",
     "output_type": "stream",
     "text": [
      "Epoch 1: Train Loss: 1.2294 | Train Accuracy: 0.5471\n"
     ]
    },
    {
     "name": "stderr",
     "output_type": "stream",
     "text": [
      "Validation Epoch 1: 100%|\u001b[33m██████████\u001b[0m| 154/154 [00:21<00:00,  7.33it/s]\n"
     ]
    },
    {
     "name": "stdout",
     "output_type": "stream",
     "text": [
      "Epoch 1: Val Loss: 0.8789 | Val Accuracy: 0.6833\n",
      "**************************************************\n",
      "Epoch 1: New best model saved with val_loss 0.8789 & val_acc 0.6833\n"
     ]
    },
    {
     "name": "stderr",
     "output_type": "stream",
     "text": [
      "Training Epoch 2: 100%|\u001b[32m██████████\u001b[0m| 613/613 [04:07<00:00,  2.48it/s]\n"
     ]
    },
    {
     "name": "stdout",
     "output_type": "stream",
     "text": [
      "Epoch 2: Train Loss: 0.6730 | Train Accuracy: 0.7727\n"
     ]
    },
    {
     "name": "stderr",
     "output_type": "stream",
     "text": [
      "Validation Epoch 2: 100%|\u001b[33m██████████\u001b[0m| 154/154 [00:21<00:00,  7.30it/s]\n"
     ]
    },
    {
     "name": "stdout",
     "output_type": "stream",
     "text": [
      "Epoch 2: Val Loss: 0.8613 | Val Accuracy: 0.7053\n",
      "**************************************************\n",
      "Epoch 2: New best model saved with val_loss 0.8613 & val_acc 0.7053\n"
     ]
    },
    {
     "name": "stderr",
     "output_type": "stream",
     "text": [
      "Training Epoch 3: 100%|\u001b[32m██████████\u001b[0m| 613/613 [04:07<00:00,  2.47it/s]\n"
     ]
    },
    {
     "name": "stdout",
     "output_type": "stream",
     "text": [
      "Epoch 3: Train Loss: 0.3261 | Train Accuracy: 0.9020\n"
     ]
    },
    {
     "name": "stderr",
     "output_type": "stream",
     "text": [
      "Validation Epoch 3: 100%|\u001b[33m██████████\u001b[0m| 154/154 [00:21<00:00,  7.30it/s]\n"
     ]
    },
    {
     "name": "stdout",
     "output_type": "stream",
     "text": [
      "Epoch 3: Val Loss: 0.9784 | Val Accuracy: 0.7118\n",
      "**************************************************\n"
     ]
    },
    {
     "name": "stderr",
     "output_type": "stream",
     "text": [
      "Training Epoch 4: 100%|\u001b[32m██████████\u001b[0m| 613/613 [04:06<00:00,  2.48it/s]\n"
     ]
    },
    {
     "name": "stdout",
     "output_type": "stream",
     "text": [
      "Epoch 4: Train Loss: 0.1433 | Train Accuracy: 0.9580\n"
     ]
    },
    {
     "name": "stderr",
     "output_type": "stream",
     "text": [
      "Validation Epoch 4: 100%|\u001b[33m██████████\u001b[0m| 154/154 [00:20<00:00,  7.33it/s]\n"
     ]
    },
    {
     "name": "stdout",
     "output_type": "stream",
     "text": [
      "Epoch 4: Val Loss: 1.1647 | Val Accuracy: 0.6890\n",
      "**************************************************\n"
     ]
    },
    {
     "name": "stderr",
     "output_type": "stream",
     "text": [
      "Training Epoch 5: 100%|\u001b[32m██████████\u001b[0m| 613/613 [04:06<00:00,  2.48it/s]\n"
     ]
    },
    {
     "name": "stdout",
     "output_type": "stream",
     "text": [
      "Epoch 5: Train Loss: 0.0736 | Train Accuracy: 0.9810\n"
     ]
    },
    {
     "name": "stderr",
     "output_type": "stream",
     "text": [
      "Validation Epoch 5: 100%|\u001b[33m██████████\u001b[0m| 154/154 [00:20<00:00,  7.34it/s]\n"
     ]
    },
    {
     "name": "stdout",
     "output_type": "stream",
     "text": [
      "Epoch 5: Val Loss: 1.3403 | Val Accuracy: 0.6971\n",
      "**************************************************\n"
     ]
    },
    {
     "name": "stderr",
     "output_type": "stream",
     "text": [
      "Training Epoch 6: 100%|\u001b[32m██████████\u001b[0m| 613/613 [04:06<00:00,  2.48it/s]\n"
     ]
    },
    {
     "name": "stdout",
     "output_type": "stream",
     "text": [
      "Epoch 6: Train Loss: 0.0363 | Train Accuracy: 0.9902\n"
     ]
    },
    {
     "name": "stderr",
     "output_type": "stream",
     "text": [
      "Validation Epoch 6: 100%|\u001b[33m██████████\u001b[0m| 154/154 [00:20<00:00,  7.33it/s]\n"
     ]
    },
    {
     "name": "stdout",
     "output_type": "stream",
     "text": [
      "Epoch 6: Val Loss: 1.4901 | Val Accuracy: 0.6914\n",
      "**************************************************\n"
     ]
    },
    {
     "name": "stderr",
     "output_type": "stream",
     "text": [
      "Training Epoch 7: 100%|\u001b[32m██████████\u001b[0m| 613/613 [04:06<00:00,  2.49it/s]\n"
     ]
    },
    {
     "name": "stdout",
     "output_type": "stream",
     "text": [
      "Epoch 7: Train Loss: 0.0267 | Train Accuracy: 0.9935\n"
     ]
    },
    {
     "name": "stderr",
     "output_type": "stream",
     "text": [
      "Validation Epoch 7: 100%|\u001b[33m██████████\u001b[0m| 154/154 [00:21<00:00,  7.33it/s]\n"
     ]
    },
    {
     "name": "stdout",
     "output_type": "stream",
     "text": [
      "Epoch 7: Val Loss: 1.4396 | Val Accuracy: 0.7118\n",
      "**************************************************\n"
     ]
    },
    {
     "name": "stderr",
     "output_type": "stream",
     "text": [
      "Training Epoch 8: 100%|\u001b[32m██████████\u001b[0m| 613/613 [04:04<00:00,  2.50it/s]\n"
     ]
    },
    {
     "name": "stdout",
     "output_type": "stream",
     "text": [
      "Epoch 8: Train Loss: 0.0170 | Train Accuracy: 0.9961\n"
     ]
    },
    {
     "name": "stderr",
     "output_type": "stream",
     "text": [
      "Validation Epoch 8: 100%|\u001b[33m██████████\u001b[0m| 154/154 [00:20<00:00,  7.36it/s]\n"
     ]
    },
    {
     "name": "stdout",
     "output_type": "stream",
     "text": [
      "Epoch 8: Val Loss: 1.6822 | Val Accuracy: 0.6833\n",
      "**************************************************\n"
     ]
    },
    {
     "name": "stderr",
     "output_type": "stream",
     "text": [
      "Training Epoch 9: 100%|\u001b[32m██████████\u001b[0m| 613/613 [04:06<00:00,  2.49it/s]\n"
     ]
    },
    {
     "name": "stdout",
     "output_type": "stream",
     "text": [
      "Epoch 9: Train Loss: 0.0132 | Train Accuracy: 0.9969\n"
     ]
    },
    {
     "name": "stderr",
     "output_type": "stream",
     "text": [
      "Validation Epoch 9: 100%|\u001b[33m██████████\u001b[0m| 154/154 [00:20<00:00,  7.35it/s]\n"
     ]
    },
    {
     "name": "stdout",
     "output_type": "stream",
     "text": [
      "Epoch 9: Val Loss: 1.6115 | Val Accuracy: 0.6980\n",
      "**************************************************\n"
     ]
    },
    {
     "name": "stderr",
     "output_type": "stream",
     "text": [
      "Training Epoch 10: 100%|\u001b[32m██████████\u001b[0m| 613/613 [04:06<00:00,  2.48it/s]\n"
     ]
    },
    {
     "name": "stdout",
     "output_type": "stream",
     "text": [
      "Epoch 10: Train Loss: 0.0084 | Train Accuracy: 0.9980\n"
     ]
    },
    {
     "name": "stderr",
     "output_type": "stream",
     "text": [
      "Validation Epoch 10: 100%|\u001b[33m██████████\u001b[0m| 154/154 [00:20<00:00,  7.33it/s]\n"
     ]
    },
    {
     "name": "stdout",
     "output_type": "stream",
     "text": [
      "Epoch 10: Val Loss: 1.6461 | Val Accuracy: 0.7029\n",
      "**************************************************\n"
     ]
    },
    {
     "name": "stderr",
     "output_type": "stream",
     "text": [
      "Training Epoch 11: 100%|\u001b[32m██████████\u001b[0m| 613/613 [04:06<00:00,  2.49it/s]\n"
     ]
    },
    {
     "name": "stdout",
     "output_type": "stream",
     "text": [
      "Epoch 11: Train Loss: 0.0079 | Train Accuracy: 0.9973\n"
     ]
    },
    {
     "name": "stderr",
     "output_type": "stream",
     "text": [
      "Validation Epoch 11: 100%|\u001b[33m██████████\u001b[0m| 154/154 [00:20<00:00,  7.34it/s]\n"
     ]
    },
    {
     "name": "stdout",
     "output_type": "stream",
     "text": [
      "Epoch 11: Val Loss: 1.6762 | Val Accuracy: 0.7037\n",
      "**************************************************\n"
     ]
    },
    {
     "name": "stderr",
     "output_type": "stream",
     "text": [
      "Training Epoch 12: 100%|\u001b[32m██████████\u001b[0m| 613/613 [04:06<00:00,  2.49it/s]\n"
     ]
    },
    {
     "name": "stdout",
     "output_type": "stream",
     "text": [
      "Epoch 12: Train Loss: 0.0064 | Train Accuracy: 0.9982\n"
     ]
    },
    {
     "name": "stderr",
     "output_type": "stream",
     "text": [
      "Validation Epoch 12: 100%|\u001b[33m██████████\u001b[0m| 154/154 [00:20<00:00,  7.38it/s]\n"
     ]
    },
    {
     "name": "stdout",
     "output_type": "stream",
     "text": [
      "Epoch 12: Val Loss: 1.6327 | Val Accuracy: 0.6996\n",
      "**************************************************\n",
      "Model name: HooshvareLab/bert-fa-zwnj-base\n"
     ]
    },
    {
     "name": "stderr",
     "output_type": "stream",
     "text": [
      "Some weights of BertForSequenceClassification were not initialized from the model checkpoint at HooshvareLab/bert-fa-zwnj-base and are newly initialized: ['bert.pooler.dense.bias', 'bert.pooler.dense.weight', 'classifier.bias', 'classifier.weight']\n",
      "You should probably TRAIN this model on a down-stream task to be able to use it for predictions and inference.\n",
      "Training Epoch 1: 100%|\u001b[32m██████████\u001b[0m| 613/613 [03:57<00:00,  2.58it/s]\n"
     ]
    },
    {
     "name": "stdout",
     "output_type": "stream",
     "text": [
      "Epoch 1: Train Loss: 1.2505 | Train Accuracy: 0.5447\n"
     ]
    },
    {
     "name": "stderr",
     "output_type": "stream",
     "text": [
      "Validation Epoch 1: 100%|\u001b[33m██████████\u001b[0m| 154/154 [00:20<00:00,  7.39it/s]\n"
     ]
    },
    {
     "name": "stdout",
     "output_type": "stream",
     "text": [
      "Epoch 1: Val Loss: 1.1188 | Val Accuracy: 0.5853\n",
      "**************************************************\n",
      "Epoch 1: New best model saved with val_loss 1.1188 & val_acc 0.5853\n"
     ]
    },
    {
     "name": "stderr",
     "output_type": "stream",
     "text": [
      "Training Epoch 2: 100%|\u001b[32m██████████\u001b[0m| 613/613 [04:00<00:00,  2.54it/s]\n"
     ]
    },
    {
     "name": "stdout",
     "output_type": "stream",
     "text": [
      "Epoch 2: Train Loss: 0.7731 | Train Accuracy: 0.7327\n"
     ]
    },
    {
     "name": "stderr",
     "output_type": "stream",
     "text": [
      "Validation Epoch 2: 100%|\u001b[33m██████████\u001b[0m| 154/154 [00:20<00:00,  7.38it/s]\n"
     ]
    },
    {
     "name": "stdout",
     "output_type": "stream",
     "text": [
      "Epoch 2: Val Loss: 0.9264 | Val Accuracy: 0.6759\n",
      "**************************************************\n",
      "Epoch 2: New best model saved with val_loss 0.9264 & val_acc 0.6759\n"
     ]
    },
    {
     "name": "stderr",
     "output_type": "stream",
     "text": [
      "Training Epoch 3: 100%|\u001b[32m██████████\u001b[0m| 613/613 [04:00<00:00,  2.55it/s]\n"
     ]
    },
    {
     "name": "stdout",
     "output_type": "stream",
     "text": [
      "Epoch 3: Train Loss: 0.4329 | Train Accuracy: 0.8604\n"
     ]
    },
    {
     "name": "stderr",
     "output_type": "stream",
     "text": [
      "Validation Epoch 3: 100%|\u001b[33m██████████\u001b[0m| 154/154 [00:20<00:00,  7.37it/s]\n"
     ]
    },
    {
     "name": "stdout",
     "output_type": "stream",
     "text": [
      "Epoch 3: Val Loss: 1.1030 | Val Accuracy: 0.6531\n",
      "**************************************************\n"
     ]
    },
    {
     "name": "stderr",
     "output_type": "stream",
     "text": [
      "Training Epoch 4: 100%|\u001b[32m██████████\u001b[0m| 613/613 [03:59<00:00,  2.56it/s]\n"
     ]
    },
    {
     "name": "stdout",
     "output_type": "stream",
     "text": [
      "Epoch 4: Train Loss: 0.1853 | Train Accuracy: 0.9441\n"
     ]
    },
    {
     "name": "stderr",
     "output_type": "stream",
     "text": [
      "Validation Epoch 4: 100%|\u001b[33m██████████\u001b[0m| 154/154 [00:20<00:00,  7.38it/s]\n"
     ]
    },
    {
     "name": "stdout",
     "output_type": "stream",
     "text": [
      "Epoch 4: Val Loss: 1.2137 | Val Accuracy: 0.6620\n",
      "**************************************************\n"
     ]
    },
    {
     "name": "stderr",
     "output_type": "stream",
     "text": [
      "Training Epoch 5: 100%|\u001b[32m██████████\u001b[0m| 613/613 [03:57<00:00,  2.58it/s]\n"
     ]
    },
    {
     "name": "stdout",
     "output_type": "stream",
     "text": [
      "Epoch 5: Train Loss: 0.0755 | Train Accuracy: 0.9820\n"
     ]
    },
    {
     "name": "stderr",
     "output_type": "stream",
     "text": [
      "Validation Epoch 5: 100%|\u001b[33m██████████\u001b[0m| 154/154 [00:20<00:00,  7.41it/s]\n"
     ]
    },
    {
     "name": "stdout",
     "output_type": "stream",
     "text": [
      "Epoch 5: Val Loss: 1.3580 | Val Accuracy: 0.6702\n",
      "**************************************************\n"
     ]
    },
    {
     "name": "stderr",
     "output_type": "stream",
     "text": [
      "Training Epoch 6: 100%|\u001b[32m██████████\u001b[0m| 613/613 [03:59<00:00,  2.56it/s]\n"
     ]
    },
    {
     "name": "stdout",
     "output_type": "stream",
     "text": [
      "Epoch 6: Train Loss: 0.0430 | Train Accuracy: 0.9902\n"
     ]
    },
    {
     "name": "stderr",
     "output_type": "stream",
     "text": [
      "Validation Epoch 6: 100%|\u001b[33m██████████\u001b[0m| 154/154 [00:20<00:00,  7.38it/s]\n"
     ]
    },
    {
     "name": "stdout",
     "output_type": "stream",
     "text": [
      "Epoch 6: Val Loss: 1.5292 | Val Accuracy: 0.6637\n",
      "**************************************************\n"
     ]
    },
    {
     "name": "stderr",
     "output_type": "stream",
     "text": [
      "Training Epoch 7: 100%|\u001b[32m██████████\u001b[0m| 613/613 [03:59<00:00,  2.56it/s]\n"
     ]
    },
    {
     "name": "stdout",
     "output_type": "stream",
     "text": [
      "Epoch 7: Train Loss: 0.0311 | Train Accuracy: 0.9922\n"
     ]
    },
    {
     "name": "stderr",
     "output_type": "stream",
     "text": [
      "Validation Epoch 7: 100%|\u001b[33m██████████\u001b[0m| 154/154 [00:20<00:00,  7.38it/s]\n"
     ]
    },
    {
     "name": "stdout",
     "output_type": "stream",
     "text": [
      "Epoch 7: Val Loss: 1.6004 | Val Accuracy: 0.6727\n",
      "**************************************************\n"
     ]
    },
    {
     "name": "stderr",
     "output_type": "stream",
     "text": [
      "Training Epoch 8: 100%|\u001b[32m██████████\u001b[0m| 613/613 [03:57<00:00,  2.58it/s]\n"
     ]
    },
    {
     "name": "stdout",
     "output_type": "stream",
     "text": [
      "Epoch 8: Train Loss: 0.0240 | Train Accuracy: 0.9933\n"
     ]
    },
    {
     "name": "stderr",
     "output_type": "stream",
     "text": [
      "Validation Epoch 8: 100%|\u001b[33m██████████\u001b[0m| 154/154 [00:20<00:00,  7.35it/s]\n"
     ]
    },
    {
     "name": "stdout",
     "output_type": "stream",
     "text": [
      "Epoch 8: Val Loss: 1.6505 | Val Accuracy: 0.6759\n",
      "**************************************************\n"
     ]
    },
    {
     "name": "stderr",
     "output_type": "stream",
     "text": [
      "Training Epoch 9: 100%|\u001b[32m██████████\u001b[0m| 613/613 [03:59<00:00,  2.56it/s]\n"
     ]
    },
    {
     "name": "stdout",
     "output_type": "stream",
     "text": [
      "Epoch 9: Train Loss: 0.0178 | Train Accuracy: 0.9959\n"
     ]
    },
    {
     "name": "stderr",
     "output_type": "stream",
     "text": [
      "Validation Epoch 9: 100%|\u001b[33m██████████\u001b[0m| 154/154 [00:20<00:00,  7.37it/s]\n"
     ]
    },
    {
     "name": "stdout",
     "output_type": "stream",
     "text": [
      "Epoch 9: Val Loss: 1.6621 | Val Accuracy: 0.6776\n",
      "**************************************************\n"
     ]
    },
    {
     "name": "stderr",
     "output_type": "stream",
     "text": [
      "Training Epoch 10: 100%|\u001b[32m██████████\u001b[0m| 613/613 [03:57<00:00,  2.59it/s]\n"
     ]
    },
    {
     "name": "stdout",
     "output_type": "stream",
     "text": [
      "Epoch 10: Train Loss: 0.0117 | Train Accuracy: 0.9973\n"
     ]
    },
    {
     "name": "stderr",
     "output_type": "stream",
     "text": [
      "Validation Epoch 10: 100%|\u001b[33m██████████\u001b[0m| 154/154 [00:20<00:00,  7.38it/s]\n"
     ]
    },
    {
     "name": "stdout",
     "output_type": "stream",
     "text": [
      "Epoch 10: Val Loss: 1.7509 | Val Accuracy: 0.6686\n",
      "**************************************************\n"
     ]
    },
    {
     "name": "stderr",
     "output_type": "stream",
     "text": [
      "Training Epoch 11: 100%|\u001b[32m██████████\u001b[0m| 613/613 [03:56<00:00,  2.59it/s]\n"
     ]
    },
    {
     "name": "stdout",
     "output_type": "stream",
     "text": [
      "Epoch 11: Train Loss: 0.0089 | Train Accuracy: 0.9980\n"
     ]
    },
    {
     "name": "stderr",
     "output_type": "stream",
     "text": [
      "Validation Epoch 11: 100%|\u001b[33m██████████\u001b[0m| 154/154 [00:20<00:00,  7.38it/s]\n"
     ]
    },
    {
     "name": "stdout",
     "output_type": "stream",
     "text": [
      "Epoch 11: Val Loss: 1.7245 | Val Accuracy: 0.6718\n",
      "**************************************************\n"
     ]
    },
    {
     "name": "stderr",
     "output_type": "stream",
     "text": [
      "Training Epoch 12: 100%|\u001b[32m██████████\u001b[0m| 613/613 [03:58<00:00,  2.57it/s]\n"
     ]
    },
    {
     "name": "stdout",
     "output_type": "stream",
     "text": [
      "Epoch 12: Train Loss: 0.0062 | Train Accuracy: 0.9982\n"
     ]
    },
    {
     "name": "stderr",
     "output_type": "stream",
     "text": [
      "Validation Epoch 12: 100%|\u001b[33m██████████\u001b[0m| 154/154 [00:20<00:00,  7.39it/s]"
     ]
    },
    {
     "name": "stdout",
     "output_type": "stream",
     "text": [
      "Epoch 12: Val Loss: 1.7315 | Val Accuracy: 0.6727\n",
      "**************************************************\n"
     ]
    },
    {
     "name": "stderr",
     "output_type": "stream",
     "text": [
      "\n"
     ]
    }
   ],
   "source": [
    "device = torch.device(\"cuda\" if torch.cuda.is_available() else \"cpu\")\n",
    "print(f\"Device: {device}\")\n",
    "\n",
    "for model_name in model_names:\n",
    "    print(f\"Model name: {model_name}\")\n",
    "    train_parsbert_with_l2(\n",
    "        model_name=model_name,\n",
    "        cache_dir=cache_dir,\n",
    "        device=device,\n",
    "        label_dict=label_dict,\n",
    "        train_sentences=train_sentences,\n",
    "        train_labels=train_labels,\n",
    "        val_sentences=val_sentences,\n",
    "        val_labels=val_labels,\n",
    "        base_path=base_path\n",
    "    )"
   ]
  },
  {
   "cell_type": "code",
   "execution_count": 21,
   "id": "513ae1bca62c8d77",
   "metadata": {
    "ExecuteTime": {
     "end_time": "2024-02-01T01:28:19.741767700Z",
     "start_time": "2024-02-01T01:26:52.814095500Z"
    },
    "collapsed": false
   },
   "outputs": [
    {
     "name": "stdout",
     "output_type": "stream",
     "text": [
      "Model name: HooshvareLab/bert-fa-base-uncased-sentiment-snappfood\n"
     ]
    },
    {
     "name": "stderr",
     "output_type": "stream",
     "text": [
      "Testing: 100%|\u001b[34m██████████\u001b[0m| 144/144 [00:17<00:00,  8.02it/s]\n"
     ]
    },
    {
     "name": "stdout",
     "output_type": "stream",
     "text": [
      "Test Loss: 1.2003 | Test Accuracy: 0.6073\n",
      "Precision: 0.6506 | Recall: 0.6040 | F1 Score: 0.5991\n",
      "**************************************************\n",
      "Model name: HooshvareLab/bert-fa-base-uncased-sentiment-digikala\n"
     ]
    },
    {
     "name": "stderr",
     "output_type": "stream",
     "text": [
      "Testing: 100%|\u001b[34m██████████\u001b[0m| 144/144 [00:18<00:00,  7.94it/s]\n"
     ]
    },
    {
     "name": "stdout",
     "output_type": "stream",
     "text": [
      "Test Loss: 1.0989 | Test Accuracy: 0.5995\n",
      "Precision: 0.6182 | Recall: 0.5958 | F1 Score: 0.5928\n",
      "**************************************************\n",
      "Model name: HooshvareLab/bert-fa-base-uncased\n"
     ]
    },
    {
     "name": "stderr",
     "output_type": "stream",
     "text": [
      "Testing: 100%|\u001b[34m██████████\u001b[0m| 144/144 [00:18<00:00,  7.87it/s]\n"
     ]
    },
    {
     "name": "stdout",
     "output_type": "stream",
     "text": [
      "Test Loss: 1.1046 | Test Accuracy: 0.6255\n",
      "Precision: 0.6381 | Recall: 0.6217 | F1 Score: 0.6176\n",
      "**************************************************\n",
      "Model name: HooshvareLab/bert-fa-zwnj-base\n"
     ]
    },
    {
     "name": "stderr",
     "output_type": "stream",
     "text": [
      "Testing: 100%|\u001b[34m██████████\u001b[0m| 144/144 [00:18<00:00,  7.86it/s]"
     ]
    },
    {
     "name": "stdout",
     "output_type": "stream",
     "text": [
      "Test Loss: 1.1864 | Test Accuracy: 0.5691\n",
      "Precision: 0.6550 | Recall: 0.5734 | F1 Score: 0.5766\n",
      "**************************************************\n"
     ]
    },
    {
     "name": "stderr",
     "output_type": "stream",
     "text": [
      "\n"
     ]
    }
   ],
   "source": [
    "for model_name in model_names:\n",
    "    print(f\"Model name: {model_name}\")\n",
    "    test_parsbert(\n",
    "        model_name=model_name,\n",
    "        cache_dir=cache_dir,\n",
    "        device=device,\n",
    "        label_dict=label_dict,\n",
    "        test_sentences=test_df['sentence'].to_list(),\n",
    "        test_labels=test_df['label'].to_list(),\n",
    "        base_path=base_path\n",
    "    )"
   ]
  },
  {
   "cell_type": "code",
   "execution_count": 25,
   "id": "73ca8aa200bbc6c9",
   "metadata": {
    "ExecuteTime": {
     "end_time": "2024-02-01T01:31:31.611479700Z",
     "start_time": "2024-02-01T01:31:25.040946100Z"
    },
    "collapsed": false
   },
   "outputs": [
    {
     "name": "stdout",
     "output_type": "stream",
     "text": [
      "Text: من این محصول رو دوست داشتم\n",
      "Predicted label: HAPPY with probability: 0.8430179953575134\n",
      "**************************************************\n",
      "Text: حالم از این وضع بهم می‌خوره\n",
      "Predicted label: HATE with probability: 0.42841026186943054\n",
      "**************************************************\n"
     ]
    }
   ],
   "source": [
    "# Example usage\n",
    "model_name = \"HooshvareLab/bert-fa-base-uncased\" # can change to other models on demand\n",
    "# model_name = \"HooshvareLab/bert-fa-base-uncased-sentiment-snappfood\"\n",
    "# model_name = \"HooshvareLab/bert-fa-base-uncased-sentiment-digikala\"\n",
    "# model_name = \"HooshvareLab/bert-fa-zwnj-base\"\n",
    "\n",
    "texts = [\n",
    "    \"من این محصول رو دوست داشتم\",  # noqa\n",
    "    \"حالم از این وضع بهم می‌خوره\",  # noqa\n",
    "]\n",
    "\n",
    "for text in texts:\n",
    "    label, probability = predict_parsbert(model_name, cache_dir, device, label_dict, text, base_path)\n",
    "    print(f\"Text: {text}\")\n",
    "    print(f\"Predicted label: {label} with probability: {probability}\")\n",
    "    print('*' * 50)"
   ]
  },
  {
   "cell_type": "code",
   "execution_count": null,
   "id": "fef54909304eddf",
   "metadata": {
    "collapsed": false
   },
   "outputs": [],
   "source": []
  }
 ],
 "metadata": {
  "kernelspec": {
   "display_name": "DL-Project",
   "language": "python",
   "name": "dl-project"
  },
  "language_info": {
   "codemirror_mode": {
    "name": "ipython",
    "version": 2
   },
   "file_extension": ".py",
   "mimetype": "text/x-python",
   "name": "python",
   "nbconvert_exporter": "python",
   "pygments_lexer": "ipython2",
   "version": "2.7.6"
  }
 },
 "nbformat": 4,
 "nbformat_minor": 5
}
