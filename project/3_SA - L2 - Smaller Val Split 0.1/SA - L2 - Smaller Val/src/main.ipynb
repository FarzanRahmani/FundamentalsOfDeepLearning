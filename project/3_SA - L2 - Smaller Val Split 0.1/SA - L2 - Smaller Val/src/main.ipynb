{
 "cells": [
  {
   "cell_type": "code",
   "execution_count": 1,
   "id": "823d30549a4be2cc",
   "metadata": {
    "ExecuteTime": {
     "end_time": "2024-02-01T01:33:35.517675600Z",
     "start_time": "2024-02-01T01:33:32.506612800Z"
    },
    "collapsed": false
   },
   "outputs": [],
   "source": [
    "import os\n",
    "\n",
    "import pandas as pd\n",
    "import torch\n",
    "from sklearn.model_selection import train_test_split\n",
    "from tqdm import tqdm\n",
    "\n",
    "from utils.constants import base_path, label_dict\n",
    "from utils.parsbert import train_parsbert_with_l2, test_parsbert, predict_parsbert\n",
    "from utils.preprocess import clean_text"
   ]
  },
  {
   "cell_type": "markdown",
   "id": "7d623e4f130c7eee",
   "metadata": {
    "collapsed": false
   },
   "source": [
    "# Load raw datasets"
   ]
  },
  {
   "cell_type": "code",
   "execution_count": 2,
   "id": "initial_id",
   "metadata": {
    "ExecuteTime": {
     "end_time": "2024-02-01T01:33:35.562926400Z",
     "start_time": "2024-02-01T01:33:35.524476500Z"
    },
    "collapsed": true
   },
   "outputs": [
    {
     "name": "stdout",
     "output_type": "stream",
     "text": [
      "['SAD' 'HATE' 'OTHER' 'FEAR' 'ANGRY' 'HAPPY' 'SURPRISE']\n",
      "['SAD' 'HAPPY' 'OTHER' 'SURPRISE' 'FEAR' 'HATE' 'ANGRY']\n",
      "True\n",
      "**************************************************\n",
      "{'HAPPY': 0, 'SAD': 1, 'ANGRY': 2, 'FEAR': 3, 'SURPRISE': 4, 'HATE': 5, 'OTHER': 6}\n",
      "خیلی کوچیک هستن و سایزشون بدرد نمیخوره میخوام پس بدم\n",
      "SAD\n",
      "**************************************************\n",
      "sentence    object\n",
      "label       object\n",
      "dtype: object\n"
     ]
    }
   ],
   "source": [
    "pd.set_option('future.no_silent_downcasting', True)  # noqa\n",
    "\n",
    "# Load datasets\n",
    "# tsv: uses tab as delimiter instead of comma in csv\n",
    "train_df = pd.read_csv(f\"{base_path}/data/train.tsv\", sep=\"\\t\", header=None, names=[\"sentence\", \"label\"])\n",
    "test_df = pd.read_csv(f\"{base_path}/data/test.tsv\", sep=\"\\t\", header=None, names=[\"sentence\", \"label\"])\n",
    "\n",
    "# print distinct labels\n",
    "print(train_df.label.unique())\n",
    "print(test_df.label.unique())\n",
    "print(set(train_df.label.unique()) == set(test_df.label.unique()))\n",
    "print('*' * 50)\n",
    "\n",
    "print(label_dict)\n",
    "print(train_df.loc[0, \"sentence\"])\n",
    "print(train_df.loc[0, \"label\"])\n",
    "print('*' * 50)\n",
    "\n",
    "print(train_df.dtypes)"
   ]
  },
  {
   "cell_type": "markdown",
   "id": "afdb2898",
   "metadata": {},
   "source": [
    "## clean data if it's not already done"
   ]
  },
  {
   "cell_type": "code",
   "execution_count": 3,
   "id": "6dbe54116361abf8",
   "metadata": {
    "ExecuteTime": {
     "end_time": "2024-02-01T01:33:35.580544200Z",
     "start_time": "2024-02-01T01:33:35.565088300Z"
    },
    "collapsed": false
   },
   "outputs": [],
   "source": [
    "# clean data and save\n",
    "tqdm.pandas()\n",
    "if not os.path.exists(f\"{base_path}/data/train_cleaned.tsv\"):\n",
    "    train_df['sentence'] = train_df['sentence'].progress_apply(clean_text)\n",
    "    train_df.to_csv(f\"{base_path}/data/train_cleaned.tsv\", sep=\"\\t\", index=False)\n",
    "if not os.path.exists(f\"{base_path}/data/test_cleaned.tsv\"):\n",
    "    test_df['sentence'] = test_df['sentence'].progress_apply(clean_text)\n",
    "    test_df.to_csv(f\"{base_path}/data/test_cleaned.tsv\", sep=\"\\t\", index=False)\n",
    "\n",
    "# Function to apply preprocessing in parallel using joblib\n",
    "# def parallel_apply(df, func):\n",
    "#     processed_sentences = Parallel(n_jobs=-1)(\n",
    "#         delayed(func)(text=sentence) for sentence in df['sentence'])\n",
    "#     return processed_sentences\n",
    "\n",
    "\n",
    "# if not os.path.exists(f\"{base_path}/data/train_cleaned.tsv\"):\n",
    "#     train_df['sentence'] = parallel_apply(train_df, combined_preprocess)\n",
    "\n",
    "# if not os.path.exists(f\"{base_path}/data/test_cleaned.tsv\"):\n",
    "#     test_df['sentence'] = parallel_apply(test_df, combined_preprocess)"
   ]
  },
  {
   "cell_type": "markdown",
   "id": "6158150e7fc15b79",
   "metadata": {
    "collapsed": false
   },
   "source": [
    "# Load cleaned datasets"
   ]
  },
  {
   "cell_type": "code",
   "execution_count": 4,
   "id": "fb79f3b9d7793c4b",
   "metadata": {
    "ExecuteTime": {
     "end_time": "2024-02-01T01:33:35.615601400Z",
     "start_time": "2024-02-01T01:33:35.573005800Z"
    },
    "collapsed": false
   },
   "outputs": [
    {
     "name": "stdout",
     "output_type": "stream",
     "text": [
      "0    خیلی کوچیک هستن و سایزشون بدرد نمیخوره میخوام ...\n",
      "1       از صدای پرنده دم دمای صبح متنفرم متنفرم متنفرم\n",
      "2    کیفیتش خیلی خوبه با شک خریدم ولی واقعا راضیم ب...\n",
      "3    چون همش با دوربین ثبت‌شده ایا میشه اعتراض زد؟؟...\n",
      "4                    این وضع ب طرز خنده داری گریه داره\n",
      "5    خب من رسما از یک نفر متنفرم چون از گربه بدش می...\n",
      "Name: sentence, dtype: object\n",
      "0    این شاید اولین عزای عمومی واقعی است که یاد دار...\n",
      "1    دیشب بعد از ارسال تویت مربوط به آثار باستانی ت...\n",
      "2    کدوم شعبه پول نداده بگو الان برات آمار دقیق بد...\n",
      "3    امروز وسط یه بحث با بابا مامانم گفتم آدم باید ...\n",
      "4    امشب گفت نامزدی دوستش که ادم روشنفکری است بهم ...\n",
      "5    به امید موفقیت تیم ملی و پیروزی در بازی امروز ...\n",
      "Name: sentence, dtype: object\n",
      "با آرزوی موفقیت و پیروزی\n"
     ]
    }
   ],
   "source": [
    "# First row is header\n",
    "train_df = pd.read_csv(f\"{base_path}/data/train_cleaned.tsv\", sep=\"\\t\")\n",
    "test_df = pd.read_csv(f\"{base_path}/data/test_cleaned.tsv\", sep=\"\\t\")\n",
    "\n",
    "print(train_df.loc[0:5, \"sentence\"])\n",
    "print(test_df.loc[0:5, \"sentence\"])\n",
    "print(test_df.loc[6, \"sentence\"])"
   ]
  },
  {
   "cell_type": "code",
   "execution_count": 5,
   "id": "7ed7e8697414fbf8",
   "metadata": {
    "ExecuteTime": {
     "end_time": "2024-02-01T01:33:35.635325600Z",
     "start_time": "2024-02-01T01:33:35.613393500Z"
    },
    "collapsed": false
   },
   "outputs": [
    {
     "name": "stdout",
     "output_type": "stream",
     "text": [
      "Number of training sentences: 5512\n",
      "Number of validation sentences: 613\n",
      "Number of test sentences: 1151\n"
     ]
    }
   ],
   "source": [
    "# Split train dataset for validation\n",
    "train_sentences, val_sentences, train_labels, val_labels = train_test_split(\n",
    "    train_df['sentence'], train_df['label'], test_size=0.1, random_state=42\n",
    ")\n",
    "print(f\"Number of training sentences: {len(train_sentences)}\")\n",
    "print(f\"Number of validation sentences: {len(val_sentences)}\")\n",
    "print(f\"Number of test sentences: {len(test_df)}\")"
   ]
  },
  {
   "cell_type": "code",
   "execution_count": null,
   "id": "d35d5fea13e2e8b5",
   "metadata": {
    "ExecuteTime": {
     "end_time": "2024-02-01T01:33:35.636233500Z",
     "start_time": "2024-02-01T01:33:35.618818Z"
    },
    "collapsed": false
   },
   "outputs": [
    {
     "name": "stdout",
     "output_type": "stream",
     "text": [
      "Train counts: {'OTHER': 1492, 'ANGRY': 819, 'SAD': 806, 'FEAR': 691, 'SURPRISE': 677, 'HAPPY': 564, 'HATE': 463}\n",
      "Val counts: {'OTHER': 189, 'ANGRY': 104, 'SAD': 90, 'FEAR': 66, 'SURPRISE': 62, 'HAPPY': 54, 'HATE': 48}\n",
      "Test counts: {'HAPPY': 275, 'SAD': 262, 'OTHER': 193, 'ANGRY': 154, 'SURPRISE': 145, 'HATE': 65, 'FEAR': 57}\n"
     ]
    }
   ],
   "source": [
    "# write each label count per dataset\n",
    "print(f\"Train counts: {train_labels.value_counts().to_dict()}\")\n",
    "print(f\"Val counts: {val_labels.value_counts().to_dict()}\")\n",
    "print(f\"Test counts: {test_df['label'].value_counts().to_dict()}\")\n",
    "# highly imbalanced dataset"
   ]
  },
  {
   "cell_type": "markdown",
   "id": "2de0defb45e06ef0",
   "metadata": {
    "collapsed": false
   },
   "source": [
    "# Load the tokenizer and model"
   ]
  },
  {
   "cell_type": "code",
   "execution_count": 7,
   "id": "3ece4f0b76fb0a27",
   "metadata": {
    "ExecuteTime": {
     "end_time": "2024-02-01T01:33:35.636233500Z",
     "start_time": "2024-02-01T01:33:35.626358Z"
    },
    "collapsed": false
   },
   "outputs": [],
   "source": [
    "model_names = [\n",
    "    'HooshvareLab/bert-fa-base-uncased-sentiment-snappfood',  # noqa\n",
    "    'HooshvareLab/bert-fa-base-uncased-sentiment-digikala',  # noqa\n",
    "    'HooshvareLab/bert-fa-base-uncased',  # noqa\n",
    "    'HooshvareLab/bert-fa-zwnj-base'  # ParsBERT (v3.0) # noqa (newest: chat GPT suggested)\n",
    "]\n",
    "cache_dir = f'{base_path}/models/huggingface_cache' # where to save models"
   ]
  },
  {
   "cell_type": "markdown",
   "id": "4ec709b2c3a4ee8a",
   "metadata": {
    "collapsed": false
   },
   "source": [
    "# Set up the training arguments"
   ]
  },
  {
   "cell_type": "code",
   "execution_count": 8,
   "id": "4dbcf0f87760d7a7",
   "metadata": {
    "ExecuteTime": {
     "end_time": "2024-02-01T05:17:52.728658100Z",
     "start_time": "2024-02-01T01:33:35.631044400Z"
    },
    "collapsed": false
   },
   "outputs": [
    {
     "name": "stdout",
     "output_type": "stream",
     "text": [
      "Device: cuda\n",
      "Model name: HooshvareLab/bert-fa-base-uncased-sentiment-snappfood\n"
     ]
    },
    {
     "name": "stderr",
     "output_type": "stream",
     "text": [
      "/home/hamedhf/anaconda3/envs/DL-project/lib/python3.11/site-packages/torch/_utils.py:831: UserWarning: TypedStorage is deprecated. It will be removed in the future and UntypedStorage will be the only storage class. This should only matter to you if you are using storages directly.  To access UntypedStorage directly, use tensor.untyped_storage() instead of tensor.storage()\n",
      "  return self.fget.__get__(instance, owner)()\n",
      "Some weights of BertForSequenceClassification were not initialized from the model checkpoint at HooshvareLab/bert-fa-base-uncased-sentiment-snappfood and are newly initialized because the shapes did not match:\n",
      "- classifier.weight: found shape torch.Size([2, 768]) in the checkpoint and torch.Size([7, 768]) in the model instantiated\n",
      "- classifier.bias: found shape torch.Size([2]) in the checkpoint and torch.Size([7]) in the model instantiated\n",
      "You should probably TRAIN this model on a down-stream task to be able to use it for predictions and inference.\n",
      "Training Epoch 1: 100%|\u001b[32m██████████\u001b[0m| 689/689 [04:20<00:00,  2.64it/s]\n"
     ]
    },
    {
     "name": "stdout",
     "output_type": "stream",
     "text": [
      "Epoch 1: Train Loss: 1.1846 | Train Accuracy: 0.5677\n"
     ]
    },
    {
     "name": "stderr",
     "output_type": "stream",
     "text": [
      "Validation Epoch 1: 100%|\u001b[33m██████████\u001b[0m| 77/77 [00:10<00:00,  7.38it/s]\n"
     ]
    },
    {
     "name": "stdout",
     "output_type": "stream",
     "text": [
      "Epoch 1: Val Loss: 0.8939 | Val Accuracy: 0.6884\n",
      "**************************************************\n",
      "Epoch 1: New best model saved with val_loss 0.8939 & val_acc 0.6884\n"
     ]
    },
    {
     "name": "stderr",
     "output_type": "stream",
     "text": [
      "Training Epoch 2: 100%|\u001b[32m██████████\u001b[0m| 689/689 [04:31<00:00,  2.54it/s]\n"
     ]
    },
    {
     "name": "stdout",
     "output_type": "stream",
     "text": [
      "Epoch 2: Train Loss: 0.6593 | Train Accuracy: 0.7729\n"
     ]
    },
    {
     "name": "stderr",
     "output_type": "stream",
     "text": [
      "Validation Epoch 2: 100%|\u001b[33m██████████\u001b[0m| 77/77 [00:09<00:00,  7.93it/s]\n"
     ]
    },
    {
     "name": "stdout",
     "output_type": "stream",
     "text": [
      "Epoch 2: Val Loss: 0.8927 | Val Accuracy: 0.6737\n",
      "**************************************************\n",
      "Epoch 2: New best model saved with val_loss 0.8927 & val_acc 0.6737\n"
     ]
    },
    {
     "name": "stderr",
     "output_type": "stream",
     "text": [
      "Training Epoch 3: 100%|\u001b[32m██████████\u001b[0m| 689/689 [04:32<00:00,  2.53it/s]\n"
     ]
    },
    {
     "name": "stdout",
     "output_type": "stream",
     "text": [
      "Epoch 3: Train Loss: 0.3094 | Train Accuracy: 0.9048\n"
     ]
    },
    {
     "name": "stderr",
     "output_type": "stream",
     "text": [
      "Validation Epoch 3: 100%|\u001b[33m██████████\u001b[0m| 77/77 [00:10<00:00,  7.35it/s]\n"
     ]
    },
    {
     "name": "stdout",
     "output_type": "stream",
     "text": [
      "Epoch 3: Val Loss: 1.1041 | Val Accuracy: 0.6852\n",
      "**************************************************\n"
     ]
    },
    {
     "name": "stderr",
     "output_type": "stream",
     "text": [
      "Training Epoch 4: 100%|\u001b[32m██████████\u001b[0m| 689/689 [04:34<00:00,  2.51it/s]\n"
     ]
    },
    {
     "name": "stdout",
     "output_type": "stream",
     "text": [
      "Epoch 4: Train Loss: 0.1462 | Train Accuracy: 0.9561\n"
     ]
    },
    {
     "name": "stderr",
     "output_type": "stream",
     "text": [
      "Validation Epoch 4: 100%|\u001b[33m██████████\u001b[0m| 77/77 [00:10<00:00,  7.38it/s]\n"
     ]
    },
    {
     "name": "stdout",
     "output_type": "stream",
     "text": [
      "Epoch 4: Val Loss: 1.2193 | Val Accuracy: 0.6868\n",
      "**************************************************\n"
     ]
    },
    {
     "name": "stderr",
     "output_type": "stream",
     "text": [
      "Training Epoch 5: 100%|\u001b[32m██████████\u001b[0m| 689/689 [04:33<00:00,  2.52it/s]\n"
     ]
    },
    {
     "name": "stdout",
     "output_type": "stream",
     "text": [
      "Epoch 5: Train Loss: 0.0830 | Train Accuracy: 0.9780\n"
     ]
    },
    {
     "name": "stderr",
     "output_type": "stream",
     "text": [
      "Validation Epoch 5: 100%|\u001b[33m██████████\u001b[0m| 77/77 [00:10<00:00,  7.34it/s]\n"
     ]
    },
    {
     "name": "stdout",
     "output_type": "stream",
     "text": [
      "Epoch 5: Val Loss: 1.3844 | Val Accuracy: 0.6770\n",
      "**************************************************\n"
     ]
    },
    {
     "name": "stderr",
     "output_type": "stream",
     "text": [
      "Training Epoch 6: 100%|\u001b[32m██████████\u001b[0m| 689/689 [04:33<00:00,  2.52it/s]\n"
     ]
    },
    {
     "name": "stdout",
     "output_type": "stream",
     "text": [
      "Epoch 6: Train Loss: 0.0402 | Train Accuracy: 0.9882\n"
     ]
    },
    {
     "name": "stderr",
     "output_type": "stream",
     "text": [
      "Validation Epoch 6: 100%|\u001b[33m██████████\u001b[0m| 77/77 [00:10<00:00,  7.37it/s]\n"
     ]
    },
    {
     "name": "stdout",
     "output_type": "stream",
     "text": [
      "Epoch 6: Val Loss: 1.4174 | Val Accuracy: 0.6933\n",
      "**************************************************\n"
     ]
    },
    {
     "name": "stderr",
     "output_type": "stream",
     "text": [
      "Training Epoch 7: 100%|\u001b[32m██████████\u001b[0m| 689/689 [04:30<00:00,  2.55it/s]\n"
     ]
    },
    {
     "name": "stdout",
     "output_type": "stream",
     "text": [
      "Epoch 7: Train Loss: 0.0286 | Train Accuracy: 0.9924\n"
     ]
    },
    {
     "name": "stderr",
     "output_type": "stream",
     "text": [
      "Validation Epoch 7: 100%|\u001b[33m██████████\u001b[0m| 77/77 [00:10<00:00,  7.35it/s]\n"
     ]
    },
    {
     "name": "stdout",
     "output_type": "stream",
     "text": [
      "Epoch 7: Val Loss: 1.4526 | Val Accuracy: 0.6852\n",
      "**************************************************\n"
     ]
    },
    {
     "name": "stderr",
     "output_type": "stream",
     "text": [
      "Training Epoch 8: 100%|\u001b[32m██████████\u001b[0m| 689/689 [04:32<00:00,  2.53it/s]\n"
     ]
    },
    {
     "name": "stdout",
     "output_type": "stream",
     "text": [
      "Epoch 8: Train Loss: 0.0207 | Train Accuracy: 0.9946\n"
     ]
    },
    {
     "name": "stderr",
     "output_type": "stream",
     "text": [
      "Validation Epoch 8: 100%|\u001b[33m██████████\u001b[0m| 77/77 [00:09<00:00,  8.09it/s]\n"
     ]
    },
    {
     "name": "stdout",
     "output_type": "stream",
     "text": [
      "Epoch 8: Val Loss: 1.5747 | Val Accuracy: 0.6884\n",
      "**************************************************\n"
     ]
    },
    {
     "name": "stderr",
     "output_type": "stream",
     "text": [
      "Training Epoch 9: 100%|\u001b[32m██████████\u001b[0m| 689/689 [04:31<00:00,  2.54it/s]\n"
     ]
    },
    {
     "name": "stdout",
     "output_type": "stream",
     "text": [
      "Epoch 9: Train Loss: 0.0130 | Train Accuracy: 0.9964\n"
     ]
    },
    {
     "name": "stderr",
     "output_type": "stream",
     "text": [
      "Validation Epoch 9: 100%|\u001b[33m██████████\u001b[0m| 77/77 [00:10<00:00,  7.38it/s]\n"
     ]
    },
    {
     "name": "stdout",
     "output_type": "stream",
     "text": [
      "Epoch 9: Val Loss: 1.6327 | Val Accuracy: 0.6786\n",
      "**************************************************\n"
     ]
    },
    {
     "name": "stderr",
     "output_type": "stream",
     "text": [
      "Training Epoch 10: 100%|\u001b[32m██████████\u001b[0m| 689/689 [04:30<00:00,  2.55it/s]\n"
     ]
    },
    {
     "name": "stdout",
     "output_type": "stream",
     "text": [
      "Epoch 10: Train Loss: 0.0144 | Train Accuracy: 0.9960\n"
     ]
    },
    {
     "name": "stderr",
     "output_type": "stream",
     "text": [
      "Validation Epoch 10: 100%|\u001b[33m██████████\u001b[0m| 77/77 [00:10<00:00,  7.37it/s]\n"
     ]
    },
    {
     "name": "stdout",
     "output_type": "stream",
     "text": [
      "Epoch 10: Val Loss: 1.6765 | Val Accuracy: 0.6737\n",
      "**************************************************\n"
     ]
    },
    {
     "name": "stderr",
     "output_type": "stream",
     "text": [
      "Training Epoch 11: 100%|\u001b[32m██████████\u001b[0m| 689/689 [04:30<00:00,  2.55it/s]\n"
     ]
    },
    {
     "name": "stdout",
     "output_type": "stream",
     "text": [
      "Epoch 11: Train Loss: 0.0084 | Train Accuracy: 0.9971\n"
     ]
    },
    {
     "name": "stderr",
     "output_type": "stream",
     "text": [
      "Validation Epoch 11: 100%|\u001b[33m██████████\u001b[0m| 77/77 [00:10<00:00,  7.35it/s]\n"
     ]
    },
    {
     "name": "stdout",
     "output_type": "stream",
     "text": [
      "Epoch 11: Val Loss: 1.6271 | Val Accuracy: 0.6982\n",
      "**************************************************\n"
     ]
    },
    {
     "name": "stderr",
     "output_type": "stream",
     "text": [
      "Training Epoch 12: 100%|\u001b[32m██████████\u001b[0m| 689/689 [04:32<00:00,  2.53it/s]\n"
     ]
    },
    {
     "name": "stdout",
     "output_type": "stream",
     "text": [
      "Epoch 12: Train Loss: 0.0067 | Train Accuracy: 0.9982\n"
     ]
    },
    {
     "name": "stderr",
     "output_type": "stream",
     "text": [
      "Validation Epoch 12: 100%|\u001b[33m██████████\u001b[0m| 77/77 [00:09<00:00,  8.08it/s]\n"
     ]
    },
    {
     "name": "stdout",
     "output_type": "stream",
     "text": [
      "Epoch 12: Val Loss: 1.6253 | Val Accuracy: 0.6917\n",
      "**************************************************\n",
      "Model name: HooshvareLab/bert-fa-base-uncased-sentiment-digikala\n"
     ]
    },
    {
     "name": "stderr",
     "output_type": "stream",
     "text": [
      "Some weights of BertForSequenceClassification were not initialized from the model checkpoint at HooshvareLab/bert-fa-base-uncased-sentiment-digikala and are newly initialized because the shapes did not match:\n",
      "- classifier.weight: found shape torch.Size([3, 768]) in the checkpoint and torch.Size([7, 768]) in the model instantiated\n",
      "- classifier.bias: found shape torch.Size([3]) in the checkpoint and torch.Size([7]) in the model instantiated\n",
      "You should probably TRAIN this model on a down-stream task to be able to use it for predictions and inference.\n",
      "Training Epoch 1: 100%|\u001b[32m██████████\u001b[0m| 689/689 [04:28<00:00,  2.57it/s]\n"
     ]
    },
    {
     "name": "stdout",
     "output_type": "stream",
     "text": [
      "Epoch 1: Train Loss: 1.1783 | Train Accuracy: 0.5648\n"
     ]
    },
    {
     "name": "stderr",
     "output_type": "stream",
     "text": [
      "Validation Epoch 1: 100%|\u001b[33m██████████\u001b[0m| 77/77 [00:10<00:00,  7.36it/s]\n"
     ]
    },
    {
     "name": "stdout",
     "output_type": "stream",
     "text": [
      "Epoch 1: Val Loss: 0.8996 | Val Accuracy: 0.6917\n",
      "**************************************************\n",
      "Epoch 1: New best model saved with val_loss 0.8996 & val_acc 0.6917\n"
     ]
    },
    {
     "name": "stderr",
     "output_type": "stream",
     "text": [
      "Training Epoch 2: 100%|\u001b[32m██████████\u001b[0m| 689/689 [04:29<00:00,  2.55it/s]\n"
     ]
    },
    {
     "name": "stdout",
     "output_type": "stream",
     "text": [
      "Epoch 2: Train Loss: 0.6626 | Train Accuracy: 0.7785\n"
     ]
    },
    {
     "name": "stderr",
     "output_type": "stream",
     "text": [
      "Validation Epoch 2: 100%|\u001b[33m██████████\u001b[0m| 77/77 [00:10<00:00,  7.42it/s]\n"
     ]
    },
    {
     "name": "stdout",
     "output_type": "stream",
     "text": [
      "Epoch 2: Val Loss: 0.8757 | Val Accuracy: 0.6933\n",
      "**************************************************\n",
      "Epoch 2: New best model saved with val_loss 0.8757 & val_acc 0.6933\n"
     ]
    },
    {
     "name": "stderr",
     "output_type": "stream",
     "text": [
      "Training Epoch 3: 100%|\u001b[32m██████████\u001b[0m| 689/689 [04:31<00:00,  2.54it/s]\n"
     ]
    },
    {
     "name": "stdout",
     "output_type": "stream",
     "text": [
      "Epoch 3: Train Loss: 0.3039 | Train Accuracy: 0.9066\n"
     ]
    },
    {
     "name": "stderr",
     "output_type": "stream",
     "text": [
      "Validation Epoch 3: 100%|\u001b[33m██████████\u001b[0m| 77/77 [00:10<00:00,  7.38it/s]\n"
     ]
    },
    {
     "name": "stdout",
     "output_type": "stream",
     "text": [
      "Epoch 3: Val Loss: 0.9957 | Val Accuracy: 0.7047\n",
      "**************************************************\n"
     ]
    },
    {
     "name": "stderr",
     "output_type": "stream",
     "text": [
      "Training Epoch 4: 100%|\u001b[32m██████████\u001b[0m| 689/689 [04:29<00:00,  2.55it/s]\n"
     ]
    },
    {
     "name": "stdout",
     "output_type": "stream",
     "text": [
      "Epoch 4: Train Loss: 0.1285 | Train Accuracy: 0.9617\n"
     ]
    },
    {
     "name": "stderr",
     "output_type": "stream",
     "text": [
      "Validation Epoch 4: 100%|\u001b[33m██████████\u001b[0m| 77/77 [00:10<00:00,  7.37it/s]\n"
     ]
    },
    {
     "name": "stdout",
     "output_type": "stream",
     "text": [
      "Epoch 4: Val Loss: 1.1777 | Val Accuracy: 0.6884\n",
      "**************************************************\n"
     ]
    },
    {
     "name": "stderr",
     "output_type": "stream",
     "text": [
      "Training Epoch 5: 100%|\u001b[32m██████████\u001b[0m| 689/689 [04:29<00:00,  2.55it/s]\n"
     ]
    },
    {
     "name": "stdout",
     "output_type": "stream",
     "text": [
      "Epoch 5: Train Loss: 0.0695 | Train Accuracy: 0.9819\n"
     ]
    },
    {
     "name": "stderr",
     "output_type": "stream",
     "text": [
      "Validation Epoch 5: 100%|\u001b[33m██████████\u001b[0m| 77/77 [00:10<00:00,  7.34it/s]\n"
     ]
    },
    {
     "name": "stdout",
     "output_type": "stream",
     "text": [
      "Epoch 5: Val Loss: 1.2753 | Val Accuracy: 0.7194\n",
      "**************************************************\n"
     ]
    },
    {
     "name": "stderr",
     "output_type": "stream",
     "text": [
      "Training Epoch 6: 100%|\u001b[32m██████████\u001b[0m| 689/689 [04:30<00:00,  2.55it/s]\n"
     ]
    },
    {
     "name": "stdout",
     "output_type": "stream",
     "text": [
      "Epoch 6: Train Loss: 0.0356 | Train Accuracy: 0.9907\n"
     ]
    },
    {
     "name": "stderr",
     "output_type": "stream",
     "text": [
      "Validation Epoch 6: 100%|\u001b[33m██████████\u001b[0m| 77/77 [00:10<00:00,  7.34it/s]\n"
     ]
    },
    {
     "name": "stdout",
     "output_type": "stream",
     "text": [
      "Epoch 6: Val Loss: 1.4407 | Val Accuracy: 0.6998\n",
      "**************************************************\n"
     ]
    },
    {
     "name": "stderr",
     "output_type": "stream",
     "text": [
      "Training Epoch 7: 100%|\u001b[32m██████████\u001b[0m| 689/689 [04:30<00:00,  2.55it/s]\n"
     ]
    },
    {
     "name": "stdout",
     "output_type": "stream",
     "text": [
      "Epoch 7: Train Loss: 0.0242 | Train Accuracy: 0.9944\n"
     ]
    },
    {
     "name": "stderr",
     "output_type": "stream",
     "text": [
      "Validation Epoch 7: 100%|\u001b[33m██████████\u001b[0m| 77/77 [00:10<00:00,  7.36it/s]\n"
     ]
    },
    {
     "name": "stdout",
     "output_type": "stream",
     "text": [
      "Epoch 7: Val Loss: 1.4330 | Val Accuracy: 0.7113\n",
      "**************************************************\n"
     ]
    },
    {
     "name": "stderr",
     "output_type": "stream",
     "text": [
      "Training Epoch 8: 100%|\u001b[32m██████████\u001b[0m| 689/689 [04:29<00:00,  2.55it/s]\n"
     ]
    },
    {
     "name": "stdout",
     "output_type": "stream",
     "text": [
      "Epoch 8: Train Loss: 0.0198 | Train Accuracy: 0.9947\n"
     ]
    },
    {
     "name": "stderr",
     "output_type": "stream",
     "text": [
      "Validation Epoch 8: 100%|\u001b[33m██████████\u001b[0m| 77/77 [00:10<00:00,  7.36it/s]\n"
     ]
    },
    {
     "name": "stdout",
     "output_type": "stream",
     "text": [
      "Epoch 8: Val Loss: 1.5569 | Val Accuracy: 0.7047\n",
      "**************************************************\n"
     ]
    },
    {
     "name": "stderr",
     "output_type": "stream",
     "text": [
      "Training Epoch 9: 100%|\u001b[32m██████████\u001b[0m| 689/689 [04:30<00:00,  2.55it/s]\n"
     ]
    },
    {
     "name": "stdout",
     "output_type": "stream",
     "text": [
      "Epoch 9: Train Loss: 0.0149 | Train Accuracy: 0.9958\n"
     ]
    },
    {
     "name": "stderr",
     "output_type": "stream",
     "text": [
      "Validation Epoch 9: 100%|\u001b[33m██████████\u001b[0m| 77/77 [00:10<00:00,  7.37it/s]\n"
     ]
    },
    {
     "name": "stdout",
     "output_type": "stream",
     "text": [
      "Epoch 9: Val Loss: 1.5595 | Val Accuracy: 0.7113\n",
      "**************************************************\n"
     ]
    },
    {
     "name": "stderr",
     "output_type": "stream",
     "text": [
      "Training Epoch 10: 100%|\u001b[32m██████████\u001b[0m| 689/689 [04:29<00:00,  2.56it/s]\n"
     ]
    },
    {
     "name": "stdout",
     "output_type": "stream",
     "text": [
      "Epoch 10: Train Loss: 0.0102 | Train Accuracy: 0.9973\n"
     ]
    },
    {
     "name": "stderr",
     "output_type": "stream",
     "text": [
      "Validation Epoch 10: 100%|\u001b[33m██████████\u001b[0m| 77/77 [00:10<00:00,  7.33it/s]\n"
     ]
    },
    {
     "name": "stdout",
     "output_type": "stream",
     "text": [
      "Epoch 10: Val Loss: 1.6465 | Val Accuracy: 0.7113\n",
      "**************************************************\n"
     ]
    },
    {
     "name": "stderr",
     "output_type": "stream",
     "text": [
      "Training Epoch 11: 100%|\u001b[32m██████████\u001b[0m| 689/689 [04:30<00:00,  2.55it/s]\n"
     ]
    },
    {
     "name": "stdout",
     "output_type": "stream",
     "text": [
      "Epoch 11: Train Loss: 0.0092 | Train Accuracy: 0.9973\n"
     ]
    },
    {
     "name": "stderr",
     "output_type": "stream",
     "text": [
      "Validation Epoch 11: 100%|\u001b[33m██████████\u001b[0m| 77/77 [00:10<00:00,  7.37it/s]\n"
     ]
    },
    {
     "name": "stdout",
     "output_type": "stream",
     "text": [
      "Epoch 11: Val Loss: 1.6694 | Val Accuracy: 0.7129\n",
      "**************************************************\n"
     ]
    },
    {
     "name": "stderr",
     "output_type": "stream",
     "text": [
      "Training Epoch 12: 100%|\u001b[32m██████████\u001b[0m| 689/689 [04:30<00:00,  2.55it/s]\n"
     ]
    },
    {
     "name": "stdout",
     "output_type": "stream",
     "text": [
      "Epoch 12: Train Loss: 0.0067 | Train Accuracy: 0.9980\n"
     ]
    },
    {
     "name": "stderr",
     "output_type": "stream",
     "text": [
      "Validation Epoch 12: 100%|\u001b[33m██████████\u001b[0m| 77/77 [00:10<00:00,  7.69it/s]\n"
     ]
    },
    {
     "name": "stdout",
     "output_type": "stream",
     "text": [
      "Epoch 12: Val Loss: 1.6653 | Val Accuracy: 0.7129\n",
      "**************************************************\n",
      "Model name: HooshvareLab/bert-fa-base-uncased\n"
     ]
    },
    {
     "name": "stderr",
     "output_type": "stream",
     "text": [
      "Some weights of BertForSequenceClassification were not initialized from the model checkpoint at HooshvareLab/bert-fa-base-uncased and are newly initialized: ['classifier.bias', 'classifier.weight']\n",
      "You should probably TRAIN this model on a down-stream task to be able to use it for predictions and inference.\n",
      "Training Epoch 1: 100%|\u001b[32m██████████\u001b[0m| 689/689 [04:26<00:00,  2.58it/s]\n"
     ]
    },
    {
     "name": "stdout",
     "output_type": "stream",
     "text": [
      "Epoch 1: Train Loss: 1.1926 | Train Accuracy: 0.5713\n"
     ]
    },
    {
     "name": "stderr",
     "output_type": "stream",
     "text": [
      "Validation Epoch 1: 100%|\u001b[33m██████████\u001b[0m| 77/77 [00:10<00:00,  7.39it/s]\n"
     ]
    },
    {
     "name": "stdout",
     "output_type": "stream",
     "text": [
      "Epoch 1: Val Loss: 0.8732 | Val Accuracy: 0.6917\n",
      "**************************************************\n",
      "Epoch 1: New best model saved with val_loss 0.8732 & val_acc 0.6917\n"
     ]
    },
    {
     "name": "stderr",
     "output_type": "stream",
     "text": [
      "Training Epoch 2: 100%|\u001b[32m██████████\u001b[0m| 689/689 [04:30<00:00,  2.55it/s]\n"
     ]
    },
    {
     "name": "stdout",
     "output_type": "stream",
     "text": [
      "Epoch 2: Train Loss: 0.6770 | Train Accuracy: 0.7645\n"
     ]
    },
    {
     "name": "stderr",
     "output_type": "stream",
     "text": [
      "Validation Epoch 2: 100%|\u001b[33m██████████\u001b[0m| 77/77 [00:10<00:00,  7.39it/s]\n"
     ]
    },
    {
     "name": "stdout",
     "output_type": "stream",
     "text": [
      "Epoch 2: Val Loss: 0.9038 | Val Accuracy: 0.6721\n",
      "**************************************************\n"
     ]
    },
    {
     "name": "stderr",
     "output_type": "stream",
     "text": [
      "Training Epoch 3: 100%|\u001b[32m██████████\u001b[0m| 689/689 [04:30<00:00,  2.55it/s]\n"
     ]
    },
    {
     "name": "stdout",
     "output_type": "stream",
     "text": [
      "Epoch 3: Train Loss: 0.3431 | Train Accuracy: 0.8931\n"
     ]
    },
    {
     "name": "stderr",
     "output_type": "stream",
     "text": [
      "Validation Epoch 3: 100%|\u001b[33m██████████\u001b[0m| 77/77 [00:10<00:00,  7.37it/s]\n"
     ]
    },
    {
     "name": "stdout",
     "output_type": "stream",
     "text": [
      "Epoch 3: Val Loss: 1.0882 | Val Accuracy: 0.6623\n",
      "**************************************************\n"
     ]
    },
    {
     "name": "stderr",
     "output_type": "stream",
     "text": [
      "Training Epoch 4: 100%|\u001b[32m██████████\u001b[0m| 689/689 [04:30<00:00,  2.54it/s]\n"
     ]
    },
    {
     "name": "stdout",
     "output_type": "stream",
     "text": [
      "Epoch 4: Train Loss: 0.1484 | Train Accuracy: 0.9572\n"
     ]
    },
    {
     "name": "stderr",
     "output_type": "stream",
     "text": [
      "Validation Epoch 4: 100%|\u001b[33m██████████\u001b[0m| 77/77 [00:09<00:00,  8.02it/s]\n"
     ]
    },
    {
     "name": "stdout",
     "output_type": "stream",
     "text": [
      "Epoch 4: Val Loss: 1.2391 | Val Accuracy: 0.6852\n",
      "**************************************************\n"
     ]
    },
    {
     "name": "stderr",
     "output_type": "stream",
     "text": [
      "Training Epoch 5: 100%|\u001b[32m██████████\u001b[0m| 689/689 [04:32<00:00,  2.53it/s]\n"
     ]
    },
    {
     "name": "stdout",
     "output_type": "stream",
     "text": [
      "Epoch 5: Train Loss: 0.0697 | Train Accuracy: 0.9800\n"
     ]
    },
    {
     "name": "stderr",
     "output_type": "stream",
     "text": [
      "Validation Epoch 5: 100%|\u001b[33m██████████\u001b[0m| 77/77 [00:09<00:00,  8.07it/s]\n"
     ]
    },
    {
     "name": "stdout",
     "output_type": "stream",
     "text": [
      "Epoch 5: Val Loss: 1.4967 | Val Accuracy: 0.6509\n",
      "**************************************************\n"
     ]
    },
    {
     "name": "stderr",
     "output_type": "stream",
     "text": [
      "Training Epoch 6: 100%|\u001b[32m██████████\u001b[0m| 689/689 [04:32<00:00,  2.53it/s]\n"
     ]
    },
    {
     "name": "stdout",
     "output_type": "stream",
     "text": [
      "Epoch 6: Train Loss: 0.0486 | Train Accuracy: 0.9864\n"
     ]
    },
    {
     "name": "stderr",
     "output_type": "stream",
     "text": [
      "Validation Epoch 6: 100%|\u001b[33m██████████\u001b[0m| 77/77 [00:10<00:00,  7.38it/s]\n"
     ]
    },
    {
     "name": "stdout",
     "output_type": "stream",
     "text": [
      "Epoch 6: Val Loss: 1.5290 | Val Accuracy: 0.6786\n",
      "**************************************************\n"
     ]
    },
    {
     "name": "stderr",
     "output_type": "stream",
     "text": [
      "Training Epoch 7: 100%|\u001b[32m██████████\u001b[0m| 689/689 [04:29<00:00,  2.55it/s]\n"
     ]
    },
    {
     "name": "stdout",
     "output_type": "stream",
     "text": [
      "Epoch 7: Train Loss: 0.0267 | Train Accuracy: 0.9926\n"
     ]
    },
    {
     "name": "stderr",
     "output_type": "stream",
     "text": [
      "Validation Epoch 7: 100%|\u001b[33m██████████\u001b[0m| 77/77 [00:10<00:00,  7.35it/s]\n"
     ]
    },
    {
     "name": "stdout",
     "output_type": "stream",
     "text": [
      "Epoch 7: Val Loss: 1.6255 | Val Accuracy: 0.6688\n",
      "**************************************************\n"
     ]
    },
    {
     "name": "stderr",
     "output_type": "stream",
     "text": [
      "Training Epoch 8: 100%|\u001b[32m██████████\u001b[0m| 689/689 [04:32<00:00,  2.53it/s]\n"
     ]
    },
    {
     "name": "stdout",
     "output_type": "stream",
     "text": [
      "Epoch 8: Train Loss: 0.0175 | Train Accuracy: 0.9951\n"
     ]
    },
    {
     "name": "stderr",
     "output_type": "stream",
     "text": [
      "Validation Epoch 8: 100%|\u001b[33m██████████\u001b[0m| 77/77 [00:09<00:00,  8.09it/s]\n"
     ]
    },
    {
     "name": "stdout",
     "output_type": "stream",
     "text": [
      "Epoch 8: Val Loss: 1.7064 | Val Accuracy: 0.6721\n",
      "**************************************************\n"
     ]
    },
    {
     "name": "stderr",
     "output_type": "stream",
     "text": [
      "Training Epoch 9: 100%|\u001b[32m██████████\u001b[0m| 689/689 [04:31<00:00,  2.54it/s]\n"
     ]
    },
    {
     "name": "stdout",
     "output_type": "stream",
     "text": [
      "Epoch 9: Train Loss: 0.0137 | Train Accuracy: 0.9966\n"
     ]
    },
    {
     "name": "stderr",
     "output_type": "stream",
     "text": [
      "Validation Epoch 9: 100%|\u001b[33m██████████\u001b[0m| 77/77 [00:10<00:00,  7.38it/s]\n"
     ]
    },
    {
     "name": "stdout",
     "output_type": "stream",
     "text": [
      "Epoch 9: Val Loss: 1.7064 | Val Accuracy: 0.6835\n",
      "**************************************************\n"
     ]
    },
    {
     "name": "stderr",
     "output_type": "stream",
     "text": [
      "Training Epoch 10: 100%|\u001b[32m██████████\u001b[0m| 689/689 [04:29<00:00,  2.56it/s]\n"
     ]
    },
    {
     "name": "stdout",
     "output_type": "stream",
     "text": [
      "Epoch 10: Train Loss: 0.0106 | Train Accuracy: 0.9971\n"
     ]
    },
    {
     "name": "stderr",
     "output_type": "stream",
     "text": [
      "Validation Epoch 10: 100%|\u001b[33m██████████\u001b[0m| 77/77 [00:10<00:00,  7.33it/s]\n"
     ]
    },
    {
     "name": "stdout",
     "output_type": "stream",
     "text": [
      "Epoch 10: Val Loss: 1.7320 | Val Accuracy: 0.6949\n",
      "**************************************************\n"
     ]
    },
    {
     "name": "stderr",
     "output_type": "stream",
     "text": [
      "Training Epoch 11: 100%|\u001b[32m██████████\u001b[0m| 689/689 [04:31<00:00,  2.54it/s]\n"
     ]
    },
    {
     "name": "stdout",
     "output_type": "stream",
     "text": [
      "Epoch 11: Train Loss: 0.0077 | Train Accuracy: 0.9980\n"
     ]
    },
    {
     "name": "stderr",
     "output_type": "stream",
     "text": [
      "Validation Epoch 11: 100%|\u001b[33m██████████\u001b[0m| 77/77 [00:09<00:00,  8.06it/s]\n"
     ]
    },
    {
     "name": "stdout",
     "output_type": "stream",
     "text": [
      "Epoch 11: Val Loss: 1.7587 | Val Accuracy: 0.6852\n",
      "**************************************************\n"
     ]
    },
    {
     "name": "stderr",
     "output_type": "stream",
     "text": [
      "Training Epoch 12: 100%|\u001b[32m██████████\u001b[0m| 689/689 [04:30<00:00,  2.54it/s]\n"
     ]
    },
    {
     "name": "stdout",
     "output_type": "stream",
     "text": [
      "Epoch 12: Train Loss: 0.0070 | Train Accuracy: 0.9978\n"
     ]
    },
    {
     "name": "stderr",
     "output_type": "stream",
     "text": [
      "Validation Epoch 12: 100%|\u001b[33m██████████\u001b[0m| 77/77 [00:10<00:00,  7.37it/s]\n"
     ]
    },
    {
     "name": "stdout",
     "output_type": "stream",
     "text": [
      "Epoch 12: Val Loss: 1.7711 | Val Accuracy: 0.6917\n",
      "**************************************************\n",
      "Model name: HooshvareLab/bert-fa-zwnj-base\n"
     ]
    },
    {
     "name": "stderr",
     "output_type": "stream",
     "text": [
      "Some weights of BertForSequenceClassification were not initialized from the model checkpoint at HooshvareLab/bert-fa-zwnj-base and are newly initialized: ['bert.pooler.dense.bias', 'bert.pooler.dense.weight', 'classifier.bias', 'classifier.weight']\n",
      "You should probably TRAIN this model on a down-stream task to be able to use it for predictions and inference.\n",
      "Training Epoch 1: 100%|\u001b[32m██████████\u001b[0m| 689/689 [04:22<00:00,  2.62it/s]\n"
     ]
    },
    {
     "name": "stdout",
     "output_type": "stream",
     "text": [
      "Epoch 1: Train Loss: 1.2041 | Train Accuracy: 0.5579\n"
     ]
    },
    {
     "name": "stderr",
     "output_type": "stream",
     "text": [
      "Validation Epoch 1: 100%|\u001b[33m██████████\u001b[0m| 77/77 [00:10<00:00,  7.39it/s]\n"
     ]
    },
    {
     "name": "stdout",
     "output_type": "stream",
     "text": [
      "Epoch 1: Val Loss: 0.9661 | Val Accuracy: 0.6427\n",
      "**************************************************\n",
      "Epoch 1: New best model saved with val_loss 0.9661 & val_acc 0.6427\n"
     ]
    },
    {
     "name": "stderr",
     "output_type": "stream",
     "text": [
      "Training Epoch 2: 100%|\u001b[32m██████████\u001b[0m| 689/689 [04:24<00:00,  2.60it/s]\n"
     ]
    },
    {
     "name": "stdout",
     "output_type": "stream",
     "text": [
      "Epoch 2: Train Loss: 0.7439 | Train Accuracy: 0.7368\n"
     ]
    },
    {
     "name": "stderr",
     "output_type": "stream",
     "text": [
      "Validation Epoch 2: 100%|\u001b[33m██████████\u001b[0m| 77/77 [00:10<00:00,  7.37it/s]\n"
     ]
    },
    {
     "name": "stdout",
     "output_type": "stream",
     "text": [
      "Epoch 2: Val Loss: 0.9617 | Val Accuracy: 0.6803\n",
      "**************************************************\n",
      "Epoch 2: New best model saved with val_loss 0.9617 & val_acc 0.6803\n"
     ]
    },
    {
     "name": "stderr",
     "output_type": "stream",
     "text": [
      "Training Epoch 3: 100%|\u001b[32m██████████\u001b[0m| 689/689 [04:25<00:00,  2.59it/s]\n"
     ]
    },
    {
     "name": "stdout",
     "output_type": "stream",
     "text": [
      "Epoch 3: Train Loss: 0.4059 | Train Accuracy: 0.8688\n"
     ]
    },
    {
     "name": "stderr",
     "output_type": "stream",
     "text": [
      "Validation Epoch 3: 100%|\u001b[33m██████████\u001b[0m| 77/77 [00:09<00:00,  8.10it/s]\n"
     ]
    },
    {
     "name": "stdout",
     "output_type": "stream",
     "text": [
      "Epoch 3: Val Loss: 1.1674 | Val Accuracy: 0.6574\n",
      "**************************************************\n"
     ]
    },
    {
     "name": "stderr",
     "output_type": "stream",
     "text": [
      "Training Epoch 4: 100%|\u001b[32m██████████\u001b[0m| 689/689 [04:25<00:00,  2.60it/s]\n"
     ]
    },
    {
     "name": "stdout",
     "output_type": "stream",
     "text": [
      "Epoch 4: Train Loss: 0.1946 | Train Accuracy: 0.9401\n"
     ]
    },
    {
     "name": "stderr",
     "output_type": "stream",
     "text": [
      "Validation Epoch 4: 100%|\u001b[33m██████████\u001b[0m| 77/77 [00:10<00:00,  7.38it/s]\n"
     ]
    },
    {
     "name": "stdout",
     "output_type": "stream",
     "text": [
      "Epoch 4: Val Loss: 1.3323 | Val Accuracy: 0.6362\n",
      "**************************************************\n"
     ]
    },
    {
     "name": "stderr",
     "output_type": "stream",
     "text": [
      "Training Epoch 5: 100%|\u001b[32m██████████\u001b[0m| 689/689 [04:25<00:00,  2.59it/s]\n"
     ]
    },
    {
     "name": "stdout",
     "output_type": "stream",
     "text": [
      "Epoch 5: Train Loss: 0.0853 | Train Accuracy: 0.9786\n"
     ]
    },
    {
     "name": "stderr",
     "output_type": "stream",
     "text": [
      "Validation Epoch 5: 100%|\u001b[33m██████████\u001b[0m| 77/77 [00:10<00:00,  7.40it/s]\n"
     ]
    },
    {
     "name": "stdout",
     "output_type": "stream",
     "text": [
      "Epoch 5: Val Loss: 1.5330 | Val Accuracy: 0.6297\n",
      "**************************************************\n"
     ]
    },
    {
     "name": "stderr",
     "output_type": "stream",
     "text": [
      "Training Epoch 6: 100%|\u001b[32m██████████\u001b[0m| 689/689 [04:24<00:00,  2.60it/s]\n"
     ]
    },
    {
     "name": "stdout",
     "output_type": "stream",
     "text": [
      "Epoch 6: Train Loss: 0.0547 | Train Accuracy: 0.9866\n"
     ]
    },
    {
     "name": "stderr",
     "output_type": "stream",
     "text": [
      "Validation Epoch 6: 100%|\u001b[33m██████████\u001b[0m| 77/77 [00:10<00:00,  7.40it/s]\n"
     ]
    },
    {
     "name": "stdout",
     "output_type": "stream",
     "text": [
      "Epoch 6: Val Loss: 1.6263 | Val Accuracy: 0.6411\n",
      "**************************************************\n"
     ]
    },
    {
     "name": "stderr",
     "output_type": "stream",
     "text": [
      "Training Epoch 7: 100%|\u001b[32m██████████\u001b[0m| 689/689 [04:25<00:00,  2.60it/s]\n"
     ]
    },
    {
     "name": "stdout",
     "output_type": "stream",
     "text": [
      "Epoch 7: Train Loss: 0.0246 | Train Accuracy: 0.9955\n"
     ]
    },
    {
     "name": "stderr",
     "output_type": "stream",
     "text": [
      "Validation Epoch 7: 100%|\u001b[33m██████████\u001b[0m| 77/77 [00:09<00:00,  8.08it/s]\n"
     ]
    },
    {
     "name": "stdout",
     "output_type": "stream",
     "text": [
      "Epoch 7: Val Loss: 1.6742 | Val Accuracy: 0.6639\n",
      "**************************************************\n"
     ]
    },
    {
     "name": "stderr",
     "output_type": "stream",
     "text": [
      "Training Epoch 8: 100%|\u001b[32m██████████\u001b[0m| 689/689 [04:26<00:00,  2.59it/s]\n"
     ]
    },
    {
     "name": "stdout",
     "output_type": "stream",
     "text": [
      "Epoch 8: Train Loss: 0.0229 | Train Accuracy: 0.9947\n"
     ]
    },
    {
     "name": "stderr",
     "output_type": "stream",
     "text": [
      "Validation Epoch 8: 100%|\u001b[33m██████████\u001b[0m| 77/77 [00:10<00:00,  7.40it/s]\n"
     ]
    },
    {
     "name": "stdout",
     "output_type": "stream",
     "text": [
      "Epoch 8: Val Loss: 1.7651 | Val Accuracy: 0.6525\n",
      "**************************************************\n"
     ]
    },
    {
     "name": "stderr",
     "output_type": "stream",
     "text": [
      "Training Epoch 9: 100%|\u001b[32m██████████\u001b[0m| 689/689 [04:24<00:00,  2.61it/s]\n"
     ]
    },
    {
     "name": "stdout",
     "output_type": "stream",
     "text": [
      "Epoch 9: Train Loss: 0.0156 | Train Accuracy: 0.9964\n"
     ]
    },
    {
     "name": "stderr",
     "output_type": "stream",
     "text": [
      "Validation Epoch 9: 100%|\u001b[33m██████████\u001b[0m| 77/77 [00:10<00:00,  7.38it/s]\n"
     ]
    },
    {
     "name": "stdout",
     "output_type": "stream",
     "text": [
      "Epoch 9: Val Loss: 1.8066 | Val Accuracy: 0.6574\n",
      "**************************************************\n"
     ]
    },
    {
     "name": "stderr",
     "output_type": "stream",
     "text": [
      "Training Epoch 10: 100%|\u001b[32m██████████\u001b[0m| 689/689 [04:24<00:00,  2.61it/s]\n"
     ]
    },
    {
     "name": "stdout",
     "output_type": "stream",
     "text": [
      "Epoch 10: Train Loss: 0.0128 | Train Accuracy: 0.9971\n"
     ]
    },
    {
     "name": "stderr",
     "output_type": "stream",
     "text": [
      "Validation Epoch 10: 100%|\u001b[33m██████████\u001b[0m| 77/77 [00:10<00:00,  7.50it/s]\n"
     ]
    },
    {
     "name": "stdout",
     "output_type": "stream",
     "text": [
      "Epoch 10: Val Loss: 1.8301 | Val Accuracy: 0.6672\n",
      "**************************************************\n"
     ]
    },
    {
     "name": "stderr",
     "output_type": "stream",
     "text": [
      "Training Epoch 11: 100%|\u001b[32m██████████\u001b[0m| 689/689 [04:24<00:00,  2.60it/s]\n"
     ]
    },
    {
     "name": "stdout",
     "output_type": "stream",
     "text": [
      "Epoch 11: Train Loss: 0.0078 | Train Accuracy: 0.9982\n"
     ]
    },
    {
     "name": "stderr",
     "output_type": "stream",
     "text": [
      "Validation Epoch 11: 100%|\u001b[33m██████████\u001b[0m| 77/77 [00:10<00:00,  7.37it/s]\n"
     ]
    },
    {
     "name": "stdout",
     "output_type": "stream",
     "text": [
      "Epoch 11: Val Loss: 1.8476 | Val Accuracy: 0.6639\n",
      "**************************************************\n"
     ]
    },
    {
     "name": "stderr",
     "output_type": "stream",
     "text": [
      "Training Epoch 12: 100%|\u001b[32m██████████\u001b[0m| 689/689 [04:25<00:00,  2.60it/s]\n"
     ]
    },
    {
     "name": "stdout",
     "output_type": "stream",
     "text": [
      "Epoch 12: Train Loss: 0.0067 | Train Accuracy: 0.9980\n"
     ]
    },
    {
     "name": "stderr",
     "output_type": "stream",
     "text": [
      "Validation Epoch 12: 100%|\u001b[33m██████████\u001b[0m| 77/77 [00:09<00:00,  8.03it/s]"
     ]
    },
    {
     "name": "stdout",
     "output_type": "stream",
     "text": [
      "Epoch 12: Val Loss: 1.8859 | Val Accuracy: 0.6591\n",
      "**************************************************\n"
     ]
    },
    {
     "name": "stderr",
     "output_type": "stream",
     "text": [
      "\n"
     ]
    }
   ],
   "source": [
    "device = torch.device(\"cuda\" if torch.cuda.is_available() else \"cpu\")\n",
    "print(f\"Device: {device}\")\n",
    "\n",
    "for model_name in model_names:\n",
    "    print(f\"Model name: {model_name}\")\n",
    "    train_parsbert_with_l2(\n",
    "        model_name=model_name,\n",
    "        cache_dir=cache_dir,\n",
    "        device=device,\n",
    "        label_dict=label_dict,\n",
    "        train_sentences=train_sentences,\n",
    "        train_labels=train_labels,\n",
    "        val_sentences=val_sentences,\n",
    "        val_labels=val_labels,\n",
    "        base_path=base_path\n",
    "    )"
   ]
  },
  {
   "cell_type": "code",
   "execution_count": 9,
   "id": "513ae1bca62c8d77",
   "metadata": {
    "ExecuteTime": {
     "end_time": "2024-02-01T05:19:21.070508800Z",
     "start_time": "2024-02-01T05:17:52.728658100Z"
    },
    "collapsed": false
   },
   "outputs": [
    {
     "name": "stdout",
     "output_type": "stream",
     "text": [
      "Model name: HooshvareLab/bert-fa-base-uncased-sentiment-snappfood\n"
     ]
    },
    {
     "name": "stderr",
     "output_type": "stream",
     "text": [
      "Testing: 100%|\u001b[34m██████████\u001b[0m| 144/144 [00:19<00:00,  7.27it/s]\n"
     ]
    },
    {
     "name": "stdout",
     "output_type": "stream",
     "text": [
      "Test Loss: 1.1277 | Test Accuracy: 0.6195\n",
      "Precision: 0.6543 | Recall: 0.6082 | F1 Score: 0.6094\n",
      "**************************************************\n",
      "Model name: HooshvareLab/bert-fa-base-uncased-sentiment-digikala\n"
     ]
    },
    {
     "name": "stderr",
     "output_type": "stream",
     "text": [
      "Testing: 100%|\u001b[34m██████████\u001b[0m| 144/144 [00:18<00:00,  7.92it/s]\n"
     ]
    },
    {
     "name": "stdout",
     "output_type": "stream",
     "text": [
      "Test Loss: 1.1970 | Test Accuracy: 0.6299\n",
      "Precision: 0.6829 | Recall: 0.6037 | F1 Score: 0.6164\n",
      "**************************************************\n",
      "Model name: HooshvareLab/bert-fa-base-uncased\n"
     ]
    },
    {
     "name": "stderr",
     "output_type": "stream",
     "text": [
      "Testing: 100%|\u001b[34m██████████\u001b[0m| 144/144 [00:18<00:00,  7.93it/s]\n"
     ]
    },
    {
     "name": "stdout",
     "output_type": "stream",
     "text": [
      "Test Loss: 1.1620 | Test Accuracy: 0.5821\n",
      "Precision: 0.6493 | Recall: 0.5669 | F1 Score: 0.5763\n",
      "**************************************************\n",
      "Model name: HooshvareLab/bert-fa-zwnj-base\n"
     ]
    },
    {
     "name": "stderr",
     "output_type": "stream",
     "text": [
      "Testing: 100%|\u001b[34m██████████\u001b[0m| 144/144 [00:18<00:00,  7.78it/s]"
     ]
    },
    {
     "name": "stdout",
     "output_type": "stream",
     "text": [
      "Test Loss: 1.1727 | Test Accuracy: 0.5960\n",
      "Precision: 0.6357 | Recall: 0.5945 | F1 Score: 0.5976\n",
      "**************************************************\n"
     ]
    },
    {
     "name": "stderr",
     "output_type": "stream",
     "text": [
      "\n"
     ]
    }
   ],
   "source": [
    "for model_name in model_names:\n",
    "    print(f\"Model name: {model_name}\")\n",
    "    test_parsbert(\n",
    "        model_name=model_name,\n",
    "        cache_dir=cache_dir,\n",
    "        device=device,\n",
    "        label_dict=label_dict,\n",
    "        test_sentences=test_df['sentence'].to_list(),\n",
    "        test_labels=test_df['label'].to_list(),\n",
    "        base_path=base_path\n",
    "    )"
   ]
  },
  {
   "cell_type": "code",
   "execution_count": 10,
   "id": "73ca8aa200bbc6c9",
   "metadata": {
    "ExecuteTime": {
     "end_time": "2024-02-01T05:19:27.198701600Z",
     "start_time": "2024-02-01T05:19:21.063748800Z"
    },
    "collapsed": false
   },
   "outputs": [
    {
     "name": "stdout",
     "output_type": "stream",
     "text": [
      "Text: من این محصول رو دوست داشتم\n",
      "Predicted label: HAPPY with probability: 0.5366262197494507\n",
      "**************************************************\n",
      "Text: حالم از این وضع بهم می‌خوره\n",
      "Predicted label: SAD with probability: 0.504980742931366\n",
      "**************************************************\n"
     ]
    }
   ],
   "source": [
    "# Example usage\n",
    "model_name = \"HooshvareLab/bert-fa-base-uncased\" # can change the model name on demand\n",
    "# model_name = \"HooshvareLab/bert-fa-base-uncased-sentiment-snappfood\" \n",
    "# model_name = \"HooshvareLab/bert-fa-base-uncased-sentiment-digikala\" \n",
    "# model_name = \"HooshvareLab/bert-fa-zwnj-base\" \n",
    "\n",
    "texts = [\n",
    "    \"من این محصول رو دوست داشتم\",  # noqa\n",
    "    \"حالم از این وضع بهم می‌خوره\",  # noqa\n",
    "]\n",
    "\n",
    "for text in texts:\n",
    "    label, probability = predict_parsbert(model_name, cache_dir, device, label_dict, text, base_path)\n",
    "    print(f\"Text: {text}\")\n",
    "    print(f\"Predicted label: {label} with probability: {probability}\")\n",
    "    print('*' * 50)"
   ]
  },
  {
   "cell_type": "code",
   "execution_count": 10,
   "id": "fef54909304eddf",
   "metadata": {
    "ExecuteTime": {
     "end_time": "2024-02-01T05:19:27.235835700Z",
     "start_time": "2024-02-01T05:19:27.190690Z"
    },
    "collapsed": false
   },
   "outputs": [],
   "source": []
  }
 ],
 "metadata": {
  "kernelspec": {
   "display_name": "DL-Project",
   "language": "python",
   "name": "dl-project"
  },
  "language_info": {
   "codemirror_mode": {
    "name": "ipython",
    "version": 2
   },
   "file_extension": ".py",
   "mimetype": "text/x-python",
   "name": "python",
   "nbconvert_exporter": "python",
   "pygments_lexer": "ipython2",
   "version": "2.7.6"
  }
 },
 "nbformat": 4,
 "nbformat_minor": 5
}
