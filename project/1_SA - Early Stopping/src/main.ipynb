{
 "cells": [
  {
   "cell_type": "code",
   "outputs": [],
   "source": [
    "import os\n",
    "\n",
    "import pandas as pd\n",
    "import torch\n",
    "from sklearn.model_selection import train_test_split\n",
    "from tqdm import tqdm\n",
    "\n",
    "from utils.constants import base_path, label_dict\n",
    "from utils.parsbert import train_parsbert, test_parsbert\n",
    "from utils.preprocess import clean_text"
   ],
   "metadata": {
    "collapsed": false,
    "ExecuteTime": {
     "end_time": "2024-01-29T00:17:55.789796200Z",
     "start_time": "2024-01-29T00:17:52.785936900Z"
    }
   },
   "id": "823d30549a4be2cc",
   "execution_count": 1
  },
  {
   "cell_type": "markdown",
   "source": [
    "# Load raw datasets"
   ],
   "metadata": {
    "collapsed": false
   },
   "id": "7d623e4f130c7eee"
  },
  {
   "cell_type": "code",
   "outputs": [
    {
     "name": "stdout",
     "output_type": "stream",
     "text": [
      "['SAD' 'HATE' 'OTHER' 'FEAR' 'ANGRY' 'HAPPY' 'SURPRISE']\n",
      "['SAD' 'HAPPY' 'OTHER' 'SURPRISE' 'FEAR' 'HATE' 'ANGRY']\n",
      "True\n",
      "**************************************************\n",
      "{'HAPPY': 0, 'SAD': 1, 'ANGRY': 2, 'FEAR': 3, 'SURPRISE': 4, 'HATE': 5, 'OTHER': 6}\n",
      "خیلی کوچیک هستن و سایزشون بدرد نمیخوره میخوام پس بدم\n",
      "SAD\n",
      "**************************************************\n",
      "sentence    object\n",
      "label       object\n",
      "dtype: object\n"
     ]
    }
   ],
   "source": [
    "pd.set_option('future.no_silent_downcasting', True)  # noqa\n",
    "\n",
    "# Load datasets\n",
    "train_df = pd.read_csv(f\"{base_path}/data/train.tsv\", sep=\"\\t\", header=None, names=[\"sentence\", \"label\"])\n",
    "test_df = pd.read_csv(f\"{base_path}/data/test.tsv\", sep=\"\\t\", header=None, names=[\"sentence\", \"label\"])\n",
    "\n",
    "# print distinct labels\n",
    "print(train_df.label.unique())\n",
    "print(test_df.label.unique())\n",
    "print(set(train_df.label.unique()) == set(test_df.label.unique()))\n",
    "print('*' * 50)\n",
    "\n",
    "print(label_dict)\n",
    "print(train_df.loc[0, \"sentence\"])\n",
    "print(train_df.loc[0, \"label\"])\n",
    "print('*' * 50)\n",
    "\n",
    "print(train_df.dtypes)"
   ],
   "metadata": {
    "collapsed": true,
    "ExecuteTime": {
     "end_time": "2024-01-29T00:17:55.829486400Z",
     "start_time": "2024-01-29T00:17:55.794797100Z"
    }
   },
   "id": "initial_id",
   "execution_count": 2
  },
  {
   "cell_type": "code",
   "outputs": [],
   "source": [
    "# clean data and save\n",
    "tqdm.pandas()\n",
    "if not os.path.exists(f\"{base_path}/data/train_cleaned.tsv\"):\n",
    "    train_df['sentence'] = train_df['sentence'].progress_apply(clean_text)\n",
    "    train_df.to_csv(f\"{base_path}/data/train_cleaned.tsv\", sep=\"\\t\", index=False)\n",
    "if not os.path.exists(f\"{base_path}/data/test_cleaned.tsv\"):\n",
    "    test_df['sentence'] = test_df['sentence'].progress_apply(clean_text)\n",
    "    test_df.to_csv(f\"{base_path}/data/test_cleaned.tsv\", sep=\"\\t\", index=False)\n",
    "\n",
    "# Function to apply preprocessing in parallel using joblib\n",
    "# def parallel_apply(df, func):\n",
    "#     processed_sentences = Parallel(n_jobs=-1)(\n",
    "#         delayed(func)(text=sentence) for sentence in df['sentence'])\n",
    "#     return processed_sentences\n",
    "# \n",
    "# \n",
    "# if not os.path.exists(f\"{base_path}/data/train_cleaned.tsv\"):\n",
    "#     train_df['sentence'] = parallel_apply(train_df, combined_preprocess)\n",
    "# \n",
    "# if not os.path.exists(f\"{base_path}/data/test_cleaned.tsv\"):\n",
    "#     test_df['sentence'] = parallel_apply(test_df, combined_preprocess)"
   ],
   "metadata": {
    "collapsed": false,
    "ExecuteTime": {
     "end_time": "2024-01-29T00:17:55.847560100Z",
     "start_time": "2024-01-29T00:17:55.832491200Z"
    }
   },
   "id": "6dbe54116361abf8",
   "execution_count": 3
  },
  {
   "cell_type": "markdown",
   "source": [
    "# Load cleaned datasets"
   ],
   "metadata": {
    "collapsed": false
   },
   "id": "6158150e7fc15b79"
  },
  {
   "cell_type": "code",
   "outputs": [
    {
     "name": "stdout",
     "output_type": "stream",
     "text": [
      "0    خیلی کوچیک هستن و سایزشون بدرد نمیخوره میخوام ...\n",
      "1       از صدای پرنده دم دمای صبح متنفرم متنفرم متنفرم\n",
      "2    کیفیتش خیلی خوبه با شک خریدم ولی واقعا راضیم ب...\n",
      "3    چون همش با دوربین ثبت‌شده ایا میشه اعتراض زد؟؟...\n",
      "4                    این وضع ب طرز خنده داری گریه داره\n",
      "5    خب من رسما از یک نفر متنفرم چون از گربه بدش می...\n",
      "Name: sentence, dtype: object\n",
      "0    این شاید اولین عزای عمومی واقعی است که یاد دار...\n",
      "1    دیشب بعد از ارسال تویت مربوط به آثار باستانی ت...\n",
      "2    کدوم شعبه پول نداده بگو الان برات آمار دقیق بد...\n",
      "3    امروز وسط یه بحث با بابا مامانم گفتم آدم باید ...\n",
      "4    امشب گفت نامزدی دوستش که ادم روشنفکری است بهم ...\n",
      "5    به امید موفقیت تیم ملی و پیروزی در بازی امروز ...\n",
      "Name: sentence, dtype: object\n",
      "با آرزوی موفقیت و پیروزی\n"
     ]
    }
   ],
   "source": [
    "# First row is header\n",
    "train_df = pd.read_csv(f\"{base_path}/data/train_cleaned.tsv\", sep=\"\\t\")\n",
    "test_df = pd.read_csv(f\"{base_path}/data/test_cleaned.tsv\", sep=\"\\t\")\n",
    "\n",
    "print(train_df.loc[0:5, \"sentence\"])\n",
    "print(test_df.loc[0:5, \"sentence\"])\n",
    "print(test_df.loc[6, \"sentence\"])"
   ],
   "metadata": {
    "collapsed": false,
    "ExecuteTime": {
     "end_time": "2024-01-29T00:17:55.886884Z",
     "start_time": "2024-01-29T00:17:55.839493800Z"
    }
   },
   "id": "fb79f3b9d7793c4b",
   "execution_count": 4
  },
  {
   "cell_type": "code",
   "outputs": [
    {
     "name": "stdout",
     "output_type": "stream",
     "text": [
      "Number of training sentences: 4900\n",
      "Number of validation sentences: 1225\n",
      "Number of test sentences: 1151\n"
     ]
    }
   ],
   "source": [
    "# Split train dataset for validation\n",
    "train_sentences, val_sentences, train_labels, val_labels = train_test_split(\n",
    "    train_df['sentence'], train_df['label'], test_size=0.2, random_state=42\n",
    ")\n",
    "print(f\"Number of training sentences: {len(train_sentences)}\")\n",
    "print(f\"Number of validation sentences: {len(val_sentences)}\")\n",
    "print(f\"Number of test sentences: {len(test_df)}\")"
   ],
   "metadata": {
    "collapsed": false,
    "ExecuteTime": {
     "end_time": "2024-01-29T00:17:55.886884Z",
     "start_time": "2024-01-29T00:17:55.878134Z"
    }
   },
   "id": "7ed7e8697414fbf8",
   "execution_count": 5
  },
  {
   "cell_type": "markdown",
   "source": [
    "# Load the tokenizer and model"
   ],
   "metadata": {
    "collapsed": false
   },
   "id": "2de0defb45e06ef0"
  },
  {
   "cell_type": "code",
   "outputs": [],
   "source": [
    "model_names = [\n",
    "    'HooshvareLab/bert-fa-base-uncased-sentiment-snappfood',  # noqa\n",
    "    'HooshvareLab/bert-fa-base-uncased-sentiment-digikala',  # noqa\n",
    "    'HooshvareLab/bert-fa-base-uncased',  # noqa\n",
    "    'HooshvareLab/bert-fa-zwnj-base'  # ParsBERT (v3.0) # noqa\n",
    "]\n",
    "cache_dir = f'{base_path}/models/huggingface_cache'"
   ],
   "metadata": {
    "collapsed": false,
    "ExecuteTime": {
     "end_time": "2024-01-29T00:17:55.886884Z",
     "start_time": "2024-01-29T00:17:55.882132600Z"
    }
   },
   "id": "3ece4f0b76fb0a27",
   "execution_count": 6
  },
  {
   "cell_type": "markdown",
   "source": [
    "# Set up the training arguments"
   ],
   "metadata": {
    "collapsed": false
   },
   "id": "4ec709b2c3a4ee8a"
  },
  {
   "cell_type": "code",
   "outputs": [
    {
     "name": "stdout",
     "output_type": "stream",
     "text": [
      "Device: cuda\n",
      "Model name: HooshvareLab/bert-fa-base-uncased-sentiment-snappfood\n"
     ]
    },
    {
     "name": "stderr",
     "output_type": "stream",
     "text": [
      "/home/hamedhf/anaconda3/envs/DL-project/lib/python3.11/site-packages/torch/_utils.py:831: UserWarning: TypedStorage is deprecated. It will be removed in the future and UntypedStorage will be the only storage class. This should only matter to you if you are using storages directly.  To access UntypedStorage directly, use tensor.untyped_storage() instead of tensor.storage()\n",
      "  return self.fget.__get__(instance, owner)()\n",
      "Some weights of BertForSequenceClassification were not initialized from the model checkpoint at HooshvareLab/bert-fa-base-uncased-sentiment-snappfood and are newly initialized because the shapes did not match:\n",
      "- classifier.weight: found shape torch.Size([2, 768]) in the checkpoint and torch.Size([7, 768]) in the model instantiated\n",
      "- classifier.bias: found shape torch.Size([2]) in the checkpoint and torch.Size([7]) in the model instantiated\n",
      "You should probably TRAIN this model on a down-stream task to be able to use it for predictions and inference.\n",
      "Training Epoch 1: 100%|\u001B[32m██████████\u001B[0m| 613/613 [04:00<00:00,  2.55it/s, Loss=1.34] \n"
     ]
    },
    {
     "name": "stdout",
     "output_type": "stream",
     "text": [
      "\n",
      "Train Loss: 1.2156 | Train Accuracy: 0.5627\n"
     ]
    },
    {
     "name": "stderr",
     "output_type": "stream",
     "text": [
      "Validation Epoch 1: 100%|\u001B[33m██████████\u001B[0m| 154/154 [00:20<00:00,  7.34it/s]\n"
     ]
    },
    {
     "name": "stdout",
     "output_type": "stream",
     "text": [
      "Validation Loss: 0.8682 | Validation Accuracy: 0.6906\n",
      "**************************************************\n",
      "Saving new best model at epoch 1\n"
     ]
    },
    {
     "name": "stderr",
     "output_type": "stream",
     "text": [
      "Training Epoch 2: 100%|\u001B[32m██████████\u001B[0m| 613/613 [04:02<00:00,  2.53it/s, Loss=1.48]  \n"
     ]
    },
    {
     "name": "stdout",
     "output_type": "stream",
     "text": [
      "\n",
      "Train Loss: 0.6635 | Train Accuracy: 0.7771\n"
     ]
    },
    {
     "name": "stderr",
     "output_type": "stream",
     "text": [
      "Validation Epoch 2: 100%|\u001B[33m██████████\u001B[0m| 154/154 [00:19<00:00,  7.72it/s]\n"
     ]
    },
    {
     "name": "stdout",
     "output_type": "stream",
     "text": [
      "Validation Loss: 0.8854 | Validation Accuracy: 0.6939\n",
      "**************************************************\n"
     ]
    },
    {
     "name": "stderr",
     "output_type": "stream",
     "text": [
      "Training Epoch 3: 100%|\u001B[32m██████████\u001B[0m| 613/613 [04:04<00:00,  2.51it/s, Loss=0.185] \n"
     ]
    },
    {
     "name": "stdout",
     "output_type": "stream",
     "text": [
      "\n",
      "Train Loss: 0.3032 | Train Accuracy: 0.9088\n"
     ]
    },
    {
     "name": "stderr",
     "output_type": "stream",
     "text": [
      "Validation Epoch 3: 100%|\u001B[33m██████████\u001B[0m| 154/154 [00:19<00:00,  7.79it/s]\n"
     ]
    },
    {
     "name": "stdout",
     "output_type": "stream",
     "text": [
      "Validation Loss: 1.2488 | Validation Accuracy: 0.6490\n",
      "**************************************************\n"
     ]
    },
    {
     "name": "stderr",
     "output_type": "stream",
     "text": [
      "Training Epoch 4: 100%|\u001B[32m██████████\u001B[0m| 613/613 [04:03<00:00,  2.52it/s, Loss=0.488]  \n"
     ]
    },
    {
     "name": "stdout",
     "output_type": "stream",
     "text": [
      "\n",
      "Train Loss: 0.1258 | Train Accuracy: 0.9659\n"
     ]
    },
    {
     "name": "stderr",
     "output_type": "stream",
     "text": [
      "Validation Epoch 4: 100%|\u001B[33m██████████\u001B[0m| 154/154 [00:21<00:00,  7.33it/s]\n"
     ]
    },
    {
     "name": "stdout",
     "output_type": "stream",
     "text": [
      "Validation Loss: 1.2613 | Validation Accuracy: 0.6849\n",
      "**************************************************\n"
     ]
    },
    {
     "name": "stderr",
     "output_type": "stream",
     "text": [
      "Training Epoch 5: 100%|\u001B[32m██████████\u001B[0m| 613/613 [04:02<00:00,  2.53it/s, Loss=0.00785]\n"
     ]
    },
    {
     "name": "stdout",
     "output_type": "stream",
     "text": [
      "\n",
      "Train Loss: 0.0710 | Train Accuracy: 0.9804\n"
     ]
    },
    {
     "name": "stderr",
     "output_type": "stream",
     "text": [
      "Validation Epoch 5: 100%|\u001B[33m██████████\u001B[0m| 154/154 [00:20<00:00,  7.42it/s]\n"
     ]
    },
    {
     "name": "stdout",
     "output_type": "stream",
     "text": [
      "Validation Loss: 1.4506 | Validation Accuracy: 0.6694\n",
      "**************************************************\n"
     ]
    },
    {
     "name": "stderr",
     "output_type": "stream",
     "text": [
      "Training Epoch 6: 100%|\u001B[32m██████████\u001B[0m| 613/613 [04:03<00:00,  2.52it/s, Loss=0.0453] \n"
     ]
    },
    {
     "name": "stdout",
     "output_type": "stream",
     "text": [
      "\n",
      "Train Loss: 0.0404 | Train Accuracy: 0.9886\n"
     ]
    },
    {
     "name": "stderr",
     "output_type": "stream",
     "text": [
      "Validation Epoch 6: 100%|\u001B[33m██████████\u001B[0m| 154/154 [00:20<00:00,  7.34it/s]\n"
     ]
    },
    {
     "name": "stdout",
     "output_type": "stream",
     "text": [
      "Validation Loss: 1.5195 | Validation Accuracy: 0.6694\n",
      "**************************************************\n"
     ]
    },
    {
     "name": "stderr",
     "output_type": "stream",
     "text": [
      "Training Epoch 7: 100%|\u001B[32m██████████\u001B[0m| 613/613 [04:03<00:00,  2.52it/s, Loss=0.0143] \n"
     ]
    },
    {
     "name": "stdout",
     "output_type": "stream",
     "text": [
      "\n",
      "Train Loss: 0.0347 | Train Accuracy: 0.9896\n"
     ]
    },
    {
     "name": "stderr",
     "output_type": "stream",
     "text": [
      "Validation Epoch 7: 100%|\u001B[33m██████████\u001B[0m| 154/154 [00:20<00:00,  7.35it/s]\n"
     ]
    },
    {
     "name": "stdout",
     "output_type": "stream",
     "text": [
      "Validation Loss: 1.5756 | Validation Accuracy: 0.6816\n",
      "**************************************************\n",
      "Early stopping at epoch 7. Best epoch: 1\n",
      "Model name: HooshvareLab/bert-fa-base-uncased-sentiment-digikala\n"
     ]
    },
    {
     "data": {
      "text/plain": "tokenizer_config.json:   0%|          | 0.00/62.0 [00:00<?, ?B/s]",
      "application/vnd.jupyter.widget-view+json": {
       "version_major": 2,
       "version_minor": 0,
       "model_id": "e9c4d7dbce674f838b7154fcc853514d"
      }
     },
     "metadata": {},
     "output_type": "display_data"
    },
    {
     "data": {
      "text/plain": "config.json:   0%|          | 0.00/694 [00:00<?, ?B/s]",
      "application/vnd.jupyter.widget-view+json": {
       "version_major": 2,
       "version_minor": 0,
       "model_id": "4f65bddb94354f6684c38faf8e82e4ee"
      }
     },
     "metadata": {},
     "output_type": "display_data"
    },
    {
     "data": {
      "text/plain": "vocab.txt:   0%|          | 0.00/1.20M [00:00<?, ?B/s]",
      "application/vnd.jupyter.widget-view+json": {
       "version_major": 2,
       "version_minor": 0,
       "model_id": "4e6e0eefc6c2460e954f0271063d3dc1"
      }
     },
     "metadata": {},
     "output_type": "display_data"
    },
    {
     "data": {
      "text/plain": "special_tokens_map.json:   0%|          | 0.00/112 [00:00<?, ?B/s]",
      "application/vnd.jupyter.widget-view+json": {
       "version_major": 2,
       "version_minor": 0,
       "model_id": "989934c243cb4500855cc0c1f0bfb5fc"
      }
     },
     "metadata": {},
     "output_type": "display_data"
    },
    {
     "data": {
      "text/plain": "pytorch_model.bin:   0%|          | 0.00/651M [00:00<?, ?B/s]",
      "application/vnd.jupyter.widget-view+json": {
       "version_major": 2,
       "version_minor": 0,
       "model_id": "749f95fbf29a4777b8d2018393ea76ad"
      }
     },
     "metadata": {},
     "output_type": "display_data"
    },
    {
     "name": "stderr",
     "output_type": "stream",
     "text": [
      "Some weights of BertForSequenceClassification were not initialized from the model checkpoint at HooshvareLab/bert-fa-base-uncased-sentiment-digikala and are newly initialized because the shapes did not match:\n",
      "- classifier.weight: found shape torch.Size([3, 768]) in the checkpoint and torch.Size([7, 768]) in the model instantiated\n",
      "- classifier.bias: found shape torch.Size([3]) in the checkpoint and torch.Size([7]) in the model instantiated\n",
      "You should probably TRAIN this model on a down-stream task to be able to use it for predictions and inference.\n",
      "Training Epoch 1: 100%|\u001B[32m██████████\u001B[0m| 613/613 [03:47<00:00,  2.69it/s, Loss=1.1]  \n"
     ]
    },
    {
     "name": "stdout",
     "output_type": "stream",
     "text": [
      "\n",
      "Train Loss: 1.2020 | Train Accuracy: 0.5608\n"
     ]
    },
    {
     "name": "stderr",
     "output_type": "stream",
     "text": [
      "Validation Epoch 1: 100%|\u001B[33m██████████\u001B[0m| 154/154 [00:20<00:00,  7.37it/s]\n"
     ]
    },
    {
     "name": "stdout",
     "output_type": "stream",
     "text": [
      "Validation Loss: 0.8663 | Validation Accuracy: 0.6816\n",
      "**************************************************\n",
      "Saving new best model at epoch 1\n"
     ]
    },
    {
     "name": "stderr",
     "output_type": "stream",
     "text": [
      "Training Epoch 2: 100%|\u001B[32m██████████\u001B[0m| 613/613 [03:57<00:00,  2.58it/s, Loss=1.8]   \n"
     ]
    },
    {
     "name": "stdout",
     "output_type": "stream",
     "text": [
      "\n",
      "Train Loss: 0.6816 | Train Accuracy: 0.7655\n"
     ]
    },
    {
     "name": "stderr",
     "output_type": "stream",
     "text": [
      "Validation Epoch 2: 100%|\u001B[33m██████████\u001B[0m| 154/154 [00:20<00:00,  7.34it/s]\n"
     ]
    },
    {
     "name": "stdout",
     "output_type": "stream",
     "text": [
      "Validation Loss: 0.9621 | Validation Accuracy: 0.6710\n",
      "**************************************************\n"
     ]
    },
    {
     "name": "stderr",
     "output_type": "stream",
     "text": [
      "Training Epoch 3: 100%|\u001B[32m██████████\u001B[0m| 613/613 [03:59<00:00,  2.56it/s, Loss=0.132] \n"
     ]
    },
    {
     "name": "stdout",
     "output_type": "stream",
     "text": [
      "\n",
      "Train Loss: 0.3099 | Train Accuracy: 0.9051\n"
     ]
    },
    {
     "name": "stderr",
     "output_type": "stream",
     "text": [
      "Validation Epoch 3: 100%|\u001B[33m██████████\u001B[0m| 154/154 [00:19<00:00,  7.79it/s]\n"
     ]
    },
    {
     "name": "stdout",
     "output_type": "stream",
     "text": [
      "Validation Loss: 1.0855 | Validation Accuracy: 0.6792\n",
      "**************************************************\n"
     ]
    },
    {
     "name": "stderr",
     "output_type": "stream",
     "text": [
      "Training Epoch 4: 100%|\u001B[32m██████████\u001B[0m| 613/613 [04:00<00:00,  2.55it/s, Loss=0.0184] \n"
     ]
    },
    {
     "name": "stdout",
     "output_type": "stream",
     "text": [
      "\n",
      "Train Loss: 0.1418 | Train Accuracy: 0.9571\n"
     ]
    },
    {
     "name": "stderr",
     "output_type": "stream",
     "text": [
      "Validation Epoch 4: 100%|\u001B[33m██████████\u001B[0m| 154/154 [00:20<00:00,  7.36it/s]\n"
     ]
    },
    {
     "name": "stdout",
     "output_type": "stream",
     "text": [
      "Validation Loss: 1.2407 | Validation Accuracy: 0.6898\n",
      "**************************************************\n"
     ]
    },
    {
     "name": "stderr",
     "output_type": "stream",
     "text": [
      "Training Epoch 5: 100%|\u001B[32m██████████\u001B[0m| 613/613 [03:59<00:00,  2.56it/s, Loss=0.14]   \n"
     ]
    },
    {
     "name": "stdout",
     "output_type": "stream",
     "text": [
      "\n",
      "Train Loss: 0.0622 | Train Accuracy: 0.9841\n"
     ]
    },
    {
     "name": "stderr",
     "output_type": "stream",
     "text": [
      "Validation Epoch 5: 100%|\u001B[33m██████████\u001B[0m| 154/154 [00:20<00:00,  7.37it/s]\n"
     ]
    },
    {
     "name": "stdout",
     "output_type": "stream",
     "text": [
      "Validation Loss: 1.4113 | Validation Accuracy: 0.6931\n",
      "**************************************************\n"
     ]
    },
    {
     "name": "stderr",
     "output_type": "stream",
     "text": [
      "Training Epoch 6: 100%|\u001B[32m██████████\u001B[0m| 613/613 [03:59<00:00,  2.56it/s, Loss=0.00318]\n"
     ]
    },
    {
     "name": "stdout",
     "output_type": "stream",
     "text": [
      "\n",
      "Train Loss: 0.0430 | Train Accuracy: 0.9884\n"
     ]
    },
    {
     "name": "stderr",
     "output_type": "stream",
     "text": [
      "Validation Epoch 6: 100%|\u001B[33m██████████\u001B[0m| 154/154 [00:20<00:00,  7.66it/s]\n"
     ]
    },
    {
     "name": "stdout",
     "output_type": "stream",
     "text": [
      "Validation Loss: 1.4495 | Validation Accuracy: 0.6890\n",
      "**************************************************\n"
     ]
    },
    {
     "name": "stderr",
     "output_type": "stream",
     "text": [
      "Training Epoch 7: 100%|\u001B[32m██████████\u001B[0m| 613/613 [04:00<00:00,  2.55it/s, Loss=0.00519]\n"
     ]
    },
    {
     "name": "stdout",
     "output_type": "stream",
     "text": [
      "\n",
      "Train Loss: 0.0265 | Train Accuracy: 0.9929\n"
     ]
    },
    {
     "name": "stderr",
     "output_type": "stream",
     "text": [
      "Validation Epoch 7: 100%|\u001B[33m██████████\u001B[0m| 154/154 [00:20<00:00,  7.52it/s]\n"
     ]
    },
    {
     "name": "stdout",
     "output_type": "stream",
     "text": [
      "Validation Loss: 1.5158 | Validation Accuracy: 0.7004\n",
      "**************************************************\n",
      "Early stopping at epoch 7. Best epoch: 1\n",
      "Model name: HooshvareLab/bert-fa-base-uncased\n"
     ]
    },
    {
     "name": "stderr",
     "output_type": "stream",
     "text": [
      "Some weights of BertForSequenceClassification were not initialized from the model checkpoint at HooshvareLab/bert-fa-base-uncased and are newly initialized: ['classifier.bias', 'classifier.weight']\n",
      "You should probably TRAIN this model on a down-stream task to be able to use it for predictions and inference.\n",
      "Training Epoch 1: 100%|\u001B[32m██████████\u001B[0m| 613/613 [03:55<00:00,  2.60it/s, Loss=1.36] \n"
     ]
    },
    {
     "name": "stdout",
     "output_type": "stream",
     "text": [
      "\n",
      "Train Loss: 1.2278 | Train Accuracy: 0.5514\n"
     ]
    },
    {
     "name": "stderr",
     "output_type": "stream",
     "text": [
      "Validation Epoch 1: 100%|\u001B[33m██████████\u001B[0m| 154/154 [00:20<00:00,  7.34it/s]\n"
     ]
    },
    {
     "name": "stdout",
     "output_type": "stream",
     "text": [
      "Validation Loss: 0.9095 | Validation Accuracy: 0.6776\n",
      "**************************************************\n",
      "Saving new best model at epoch 1\n"
     ]
    },
    {
     "name": "stderr",
     "output_type": "stream",
     "text": [
      "Training Epoch 2: 100%|\u001B[32m██████████\u001B[0m| 613/613 [03:59<00:00,  2.56it/s, Loss=1.16]  \n"
     ]
    },
    {
     "name": "stdout",
     "output_type": "stream",
     "text": [
      "\n",
      "Train Loss: 0.6792 | Train Accuracy: 0.7682\n"
     ]
    },
    {
     "name": "stderr",
     "output_type": "stream",
     "text": [
      "Validation Epoch 2: 100%|\u001B[33m██████████\u001B[0m| 154/154 [00:20<00:00,  7.54it/s]\n"
     ]
    },
    {
     "name": "stdout",
     "output_type": "stream",
     "text": [
      "Validation Loss: 0.8828 | Validation Accuracy: 0.6922\n",
      "**************************************************\n",
      "Saving new best model at epoch 2\n"
     ]
    },
    {
     "name": "stderr",
     "output_type": "stream",
     "text": [
      "Training Epoch 3: 100%|\u001B[32m██████████\u001B[0m| 613/613 [04:00<00:00,  2.55it/s, Loss=0.0165]\n"
     ]
    },
    {
     "name": "stdout",
     "output_type": "stream",
     "text": [
      "\n",
      "Train Loss: 0.3294 | Train Accuracy: 0.8967\n"
     ]
    },
    {
     "name": "stderr",
     "output_type": "stream",
     "text": [
      "Validation Epoch 3: 100%|\u001B[33m██████████\u001B[0m| 154/154 [00:21<00:00,  7.31it/s]\n"
     ]
    },
    {
     "name": "stdout",
     "output_type": "stream",
     "text": [
      "Validation Loss: 1.0791 | Validation Accuracy: 0.6759\n",
      "**************************************************\n"
     ]
    },
    {
     "name": "stderr",
     "output_type": "stream",
     "text": [
      "Training Epoch 4: 100%|\u001B[32m██████████\u001B[0m| 613/613 [03:59<00:00,  2.56it/s, Loss=0.0211] \n"
     ]
    },
    {
     "name": "stdout",
     "output_type": "stream",
     "text": [
      "\n",
      "Train Loss: 0.1273 | Train Accuracy: 0.9629\n"
     ]
    },
    {
     "name": "stderr",
     "output_type": "stream",
     "text": [
      "Validation Epoch 4: 100%|\u001B[33m██████████\u001B[0m| 154/154 [00:21<00:00,  7.29it/s]\n"
     ]
    },
    {
     "name": "stdout",
     "output_type": "stream",
     "text": [
      "Validation Loss: 1.2289 | Validation Accuracy: 0.6849\n",
      "**************************************************\n"
     ]
    },
    {
     "name": "stderr",
     "output_type": "stream",
     "text": [
      "Training Epoch 5: 100%|\u001B[32m██████████\u001B[0m| 613/613 [03:58<00:00,  2.57it/s, Loss=0.117]  \n"
     ]
    },
    {
     "name": "stdout",
     "output_type": "stream",
     "text": [
      "\n",
      "Train Loss: 0.0655 | Train Accuracy: 0.9820\n"
     ]
    },
    {
     "name": "stderr",
     "output_type": "stream",
     "text": [
      "Validation Epoch 5: 100%|\u001B[33m██████████\u001B[0m| 154/154 [00:20<00:00,  7.53it/s]\n"
     ]
    },
    {
     "name": "stdout",
     "output_type": "stream",
     "text": [
      "Validation Loss: 1.3353 | Validation Accuracy: 0.6931\n",
      "**************************************************\n"
     ]
    },
    {
     "name": "stderr",
     "output_type": "stream",
     "text": [
      "Training Epoch 6: 100%|\u001B[32m██████████\u001B[0m| 613/613 [03:59<00:00,  2.56it/s, Loss=0.00488]\n"
     ]
    },
    {
     "name": "stdout",
     "output_type": "stream",
     "text": [
      "\n",
      "Train Loss: 0.0385 | Train Accuracy: 0.9910\n"
     ]
    },
    {
     "name": "stderr",
     "output_type": "stream",
     "text": [
      "Validation Epoch 6: 100%|\u001B[33m██████████\u001B[0m| 154/154 [00:21<00:00,  7.28it/s]\n"
     ]
    },
    {
     "name": "stdout",
     "output_type": "stream",
     "text": [
      "Validation Loss: 1.3817 | Validation Accuracy: 0.7029\n",
      "**************************************************\n"
     ]
    },
    {
     "name": "stderr",
     "output_type": "stream",
     "text": [
      "Training Epoch 7: 100%|\u001B[32m██████████\u001B[0m| 613/613 [03:59<00:00,  2.56it/s, Loss=0.248]  \n"
     ]
    },
    {
     "name": "stdout",
     "output_type": "stream",
     "text": [
      "\n",
      "Train Loss: 0.0300 | Train Accuracy: 0.9929\n"
     ]
    },
    {
     "name": "stderr",
     "output_type": "stream",
     "text": [
      "Validation Epoch 7: 100%|\u001B[33m██████████\u001B[0m| 154/154 [00:21<00:00,  7.28it/s]\n"
     ]
    },
    {
     "name": "stdout",
     "output_type": "stream",
     "text": [
      "Validation Loss: 1.4625 | Validation Accuracy: 0.7004\n",
      "**************************************************\n"
     ]
    },
    {
     "name": "stderr",
     "output_type": "stream",
     "text": [
      "Training Epoch 8: 100%|\u001B[32m██████████\u001B[0m| 613/613 [03:59<00:00,  2.56it/s, Loss=0.00371]\n"
     ]
    },
    {
     "name": "stdout",
     "output_type": "stream",
     "text": [
      "\n",
      "Train Loss: 0.0175 | Train Accuracy: 0.9949\n"
     ]
    },
    {
     "name": "stderr",
     "output_type": "stream",
     "text": [
      "Validation Epoch 8: 100%|\u001B[33m██████████\u001B[0m| 154/154 [00:21<00:00,  7.30it/s]\n"
     ]
    },
    {
     "name": "stdout",
     "output_type": "stream",
     "text": [
      "Validation Loss: 1.5663 | Validation Accuracy: 0.7037\n",
      "**************************************************\n",
      "Early stopping at epoch 8. Best epoch: 2\n",
      "Model name: HooshvareLab/bert-fa-zwnj-base\n"
     ]
    },
    {
     "name": "stderr",
     "output_type": "stream",
     "text": [
      "Some weights of BertForSequenceClassification were not initialized from the model checkpoint at HooshvareLab/bert-fa-zwnj-base and are newly initialized: ['bert.pooler.dense.bias', 'bert.pooler.dense.weight', 'classifier.bias', 'classifier.weight']\n",
      "You should probably TRAIN this model on a down-stream task to be able to use it for predictions and inference.\n",
      "Training Epoch 1: 100%|\u001B[32m██████████\u001B[0m| 613/613 [03:51<00:00,  2.64it/s, Loss=0.522]\n"
     ]
    },
    {
     "name": "stdout",
     "output_type": "stream",
     "text": [
      "\n",
      "Train Loss: 1.2881 | Train Accuracy: 0.5243\n"
     ]
    },
    {
     "name": "stderr",
     "output_type": "stream",
     "text": [
      "Validation Epoch 1: 100%|\u001B[33m██████████\u001B[0m| 154/154 [00:21<00:00,  7.30it/s]\n"
     ]
    },
    {
     "name": "stdout",
     "output_type": "stream",
     "text": [
      "Validation Loss: 0.9698 | Validation Accuracy: 0.6449\n",
      "**************************************************\n",
      "Saving new best model at epoch 1\n"
     ]
    },
    {
     "name": "stderr",
     "output_type": "stream",
     "text": [
      "Training Epoch 2: 100%|\u001B[32m██████████\u001B[0m| 613/613 [03:53<00:00,  2.63it/s, Loss=0.585]\n"
     ]
    },
    {
     "name": "stdout",
     "output_type": "stream",
     "text": [
      "\n",
      "Train Loss: 0.7859 | Train Accuracy: 0.7249\n"
     ]
    },
    {
     "name": "stderr",
     "output_type": "stream",
     "text": [
      "Validation Epoch 2: 100%|\u001B[33m██████████\u001B[0m| 154/154 [00:21<00:00,  7.29it/s]\n"
     ]
    },
    {
     "name": "stdout",
     "output_type": "stream",
     "text": [
      "Validation Loss: 0.8919 | Validation Accuracy: 0.6743\n",
      "**************************************************\n",
      "Saving new best model at epoch 2\n"
     ]
    },
    {
     "name": "stderr",
     "output_type": "stream",
     "text": [
      "Training Epoch 3: 100%|\u001B[32m██████████\u001B[0m| 613/613 [03:54<00:00,  2.62it/s, Loss=1.1]   \n"
     ]
    },
    {
     "name": "stdout",
     "output_type": "stream",
     "text": [
      "\n",
      "Train Loss: 0.4584 | Train Accuracy: 0.8494\n"
     ]
    },
    {
     "name": "stderr",
     "output_type": "stream",
     "text": [
      "Validation Epoch 3: 100%|\u001B[33m██████████\u001B[0m| 154/154 [00:21<00:00,  7.31it/s]\n"
     ]
    },
    {
     "name": "stdout",
     "output_type": "stream",
     "text": [
      "Validation Loss: 1.0340 | Validation Accuracy: 0.6702\n",
      "**************************************************\n"
     ]
    },
    {
     "name": "stderr",
     "output_type": "stream",
     "text": [
      "Training Epoch 4: 100%|\u001B[32m██████████\u001B[0m| 613/613 [03:54<00:00,  2.61it/s, Loss=0.0191]\n"
     ]
    },
    {
     "name": "stdout",
     "output_type": "stream",
     "text": [
      "\n",
      "Train Loss: 0.2026 | Train Accuracy: 0.9396\n"
     ]
    },
    {
     "name": "stderr",
     "output_type": "stream",
     "text": [
      "Validation Epoch 4: 100%|\u001B[33m██████████\u001B[0m| 154/154 [00:19<00:00,  8.07it/s]\n"
     ]
    },
    {
     "name": "stdout",
     "output_type": "stream",
     "text": [
      "Validation Loss: 1.2498 | Validation Accuracy: 0.6596\n",
      "**************************************************\n"
     ]
    },
    {
     "name": "stderr",
     "output_type": "stream",
     "text": [
      "Training Epoch 5: 100%|\u001B[32m██████████\u001B[0m| 613/613 [03:54<00:00,  2.62it/s, Loss=0.0138] \n"
     ]
    },
    {
     "name": "stdout",
     "output_type": "stream",
     "text": [
      "\n",
      "Train Loss: 0.0929 | Train Accuracy: 0.9753\n"
     ]
    },
    {
     "name": "stderr",
     "output_type": "stream",
     "text": [
      "Validation Epoch 5: 100%|\u001B[33m██████████\u001B[0m| 154/154 [00:21<00:00,  7.28it/s]\n"
     ]
    },
    {
     "name": "stdout",
     "output_type": "stream",
     "text": [
      "Validation Loss: 1.4132 | Validation Accuracy: 0.6473\n",
      "**************************************************\n"
     ]
    },
    {
     "name": "stderr",
     "output_type": "stream",
     "text": [
      "Training Epoch 6: 100%|\u001B[32m██████████\u001B[0m| 613/613 [03:54<00:00,  2.61it/s, Loss=0.00242]\n"
     ]
    },
    {
     "name": "stdout",
     "output_type": "stream",
     "text": [
      "\n",
      "Train Loss: 0.0555 | Train Accuracy: 0.9869\n"
     ]
    },
    {
     "name": "stderr",
     "output_type": "stream",
     "text": [
      "Validation Epoch 6: 100%|\u001B[33m██████████\u001B[0m| 154/154 [00:19<00:00,  7.71it/s]\n"
     ]
    },
    {
     "name": "stdout",
     "output_type": "stream",
     "text": [
      "Validation Loss: 1.4666 | Validation Accuracy: 0.6718\n",
      "**************************************************\n"
     ]
    },
    {
     "name": "stderr",
     "output_type": "stream",
     "text": [
      "Training Epoch 7: 100%|\u001B[32m██████████\u001B[0m| 613/613 [03:53<00:00,  2.62it/s, Loss=0.00829]\n"
     ]
    },
    {
     "name": "stdout",
     "output_type": "stream",
     "text": [
      "\n",
      "Train Loss: 0.0374 | Train Accuracy: 0.9910\n"
     ]
    },
    {
     "name": "stderr",
     "output_type": "stream",
     "text": [
      "Validation Epoch 7: 100%|\u001B[33m██████████\u001B[0m| 154/154 [00:21<00:00,  7.26it/s]\n"
     ]
    },
    {
     "name": "stdout",
     "output_type": "stream",
     "text": [
      "Validation Loss: 1.5017 | Validation Accuracy: 0.6678\n",
      "**************************************************\n"
     ]
    },
    {
     "name": "stderr",
     "output_type": "stream",
     "text": [
      "Training Epoch 8: 100%|\u001B[32m██████████\u001B[0m| 613/613 [03:55<00:00,  2.61it/s, Loss=0.00285]\n"
     ]
    },
    {
     "name": "stdout",
     "output_type": "stream",
     "text": [
      "\n",
      "Train Loss: 0.0208 | Train Accuracy: 0.9951\n"
     ]
    },
    {
     "name": "stderr",
     "output_type": "stream",
     "text": [
      "Validation Epoch 8: 100%|\u001B[33m██████████\u001B[0m| 154/154 [00:21<00:00,  7.28it/s]"
     ]
    },
    {
     "name": "stdout",
     "output_type": "stream",
     "text": [
      "Validation Loss: 1.6148 | Validation Accuracy: 0.6759\n",
      "**************************************************\n",
      "Early stopping at epoch 8. Best epoch: 2\n"
     ]
    },
    {
     "name": "stderr",
     "output_type": "stream",
     "text": [
      "\n"
     ]
    }
   ],
   "source": [
    "device = torch.device(\"cuda\" if torch.cuda.is_available() else \"cpu\")\n",
    "print(f\"Device: {device}\")\n",
    "\n",
    "for model_name in model_names:\n",
    "    print(f\"Model name: {model_name}\")\n",
    "    train_parsbert(\n",
    "        model_name=model_name,\n",
    "        cache_dir=cache_dir,\n",
    "        device=device,\n",
    "        label_dict=label_dict,\n",
    "        train_sentences=train_sentences,\n",
    "        train_labels=train_labels,\n",
    "        val_sentences=val_sentences,\n",
    "        val_labels=val_labels,\n",
    "        base_path=base_path\n",
    "    )"
   ],
   "metadata": {
    "collapsed": false,
    "ExecuteTime": {
     "end_time": "2024-01-29T02:39:38.996159900Z",
     "start_time": "2024-01-29T00:17:55.885882500Z"
    }
   },
   "id": "4dbcf0f87760d7a7",
   "execution_count": 7
  },
  {
   "cell_type": "code",
   "outputs": [
    {
     "name": "stdout",
     "output_type": "stream",
     "text": [
      "Model name: HooshvareLab/bert-fa-base-uncased-sentiment-snappfood\n"
     ]
    },
    {
     "name": "stderr",
     "output_type": "stream",
     "text": [
      "Testing: 100%|\u001B[34m██████████\u001B[0m| 144/144 [00:18<00:00,  7.93it/s]\n"
     ]
    },
    {
     "name": "stdout",
     "output_type": "stream",
     "text": [
      "Test Loss: 1.1351 | Test Accuracy: 0.5995\n",
      "Precision: 0.6524 | Recall: 0.5897 | F1 Score: 0.5936\n",
      "**************************************************\n",
      "Model name: HooshvareLab/bert-fa-base-uncased-sentiment-digikala\n"
     ]
    },
    {
     "name": "stderr",
     "output_type": "stream",
     "text": [
      "Testing: 100%|\u001B[34m██████████\u001B[0m| 144/144 [00:18<00:00,  7.89it/s]\n"
     ]
    },
    {
     "name": "stdout",
     "output_type": "stream",
     "text": [
      "Test Loss: 1.1684 | Test Accuracy: 0.5934\n",
      "Precision: 0.6430 | Recall: 0.5804 | F1 Score: 0.5848\n",
      "**************************************************\n",
      "Model name: HooshvareLab/bert-fa-base-uncased\n"
     ]
    },
    {
     "name": "stderr",
     "output_type": "stream",
     "text": [
      "Testing: 100%|\u001B[34m██████████\u001B[0m| 144/144 [00:18<00:00,  7.91it/s]\n"
     ]
    },
    {
     "name": "stdout",
     "output_type": "stream",
     "text": [
      "Test Loss: 1.1109 | Test Accuracy: 0.6229\n",
      "Precision: 0.6745 | Recall: 0.5994 | F1 Score: 0.6134\n",
      "**************************************************\n",
      "Model name: HooshvareLab/bert-fa-zwnj-base\n"
     ]
    },
    {
     "name": "stderr",
     "output_type": "stream",
     "text": [
      "Testing: 100%|\u001B[34m██████████\u001B[0m| 144/144 [00:18<00:00,  7.95it/s]"
     ]
    },
    {
     "name": "stdout",
     "output_type": "stream",
     "text": [
      "Test Loss: 1.1629 | Test Accuracy: 0.6003\n",
      "Precision: 0.6630 | Recall: 0.5911 | F1 Score: 0.6030\n",
      "**************************************************\n"
     ]
    },
    {
     "name": "stderr",
     "output_type": "stream",
     "text": [
      "\n"
     ]
    }
   ],
   "source": [
    "for model_name in model_names:\n",
    "    print(f\"Model name: {model_name}\")\n",
    "    test_parsbert(\n",
    "        model_name=model_name,\n",
    "        cache_dir=cache_dir,\n",
    "        device=device,\n",
    "        label_dict=label_dict,\n",
    "        test_sentences=test_df['sentence'].to_list(),\n",
    "        test_labels=test_df['label'].to_list(),\n",
    "        base_path=base_path\n",
    "    )"
   ],
   "metadata": {
    "collapsed": false,
    "ExecuteTime": {
     "end_time": "2024-01-29T02:41:05.527015900Z",
     "start_time": "2024-01-29T02:39:38.984369800Z"
    }
   },
   "id": "513ae1bca62c8d77",
   "execution_count": 8
  }
 ],
 "metadata": {
  "kernelspec": {
   "name": "dl-project",
   "language": "python",
   "display_name": "DL-Project"
  },
  "language_info": {
   "codemirror_mode": {
    "name": "ipython",
    "version": 2
   },
   "file_extension": ".py",
   "mimetype": "text/x-python",
   "name": "python",
   "nbconvert_exporter": "python",
   "pygments_lexer": "ipython2",
   "version": "2.7.6"
  }
 },
 "nbformat": 4,
 "nbformat_minor": 5
}
