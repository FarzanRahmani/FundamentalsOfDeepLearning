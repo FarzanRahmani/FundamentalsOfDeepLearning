{
 "cells": [
  {
   "cell_type": "code",
   "execution_count": 1,
   "id": "initial_id",
   "metadata": {
    "collapsed": true,
    "ExecuteTime": {
     "end_time": "2024-01-28T21:19:43.559631600Z",
     "start_time": "2024-01-28T21:19:42.364550800Z"
    }
   },
   "outputs": [],
   "source": [
    "import pandas as pd\n",
    "from dadmatools.normalizer import Normalizer\n",
    "\n",
    "from utils.constants import base_path\n",
    "from utils.preprocess import clean_text"
   ]
  },
  {
   "cell_type": "code",
   "outputs": [],
   "source": [
    "# First row is header\n",
    "train_df = pd.read_csv(f\"{base_path}/data/train_cleaned.tsv\", sep=\"\\t\")\n",
    "\n",
    "test_raw_df = pd.read_csv(f\"{base_path}/data/test.tsv\", sep=\"\\t\", names=[\"sentence\", \"label\"])\n",
    "test_df = pd.read_csv(f\"{base_path}/data/test_cleaned.tsv\", sep=\"\\t\")"
   ],
   "metadata": {
    "collapsed": false,
    "ExecuteTime": {
     "end_time": "2024-01-28T21:19:44.134001200Z",
     "start_time": "2024-01-28T21:19:44.044313300Z"
    }
   },
   "id": "6b9a8ea542e01400",
   "execution_count": 2
  },
  {
   "cell_type": "code",
   "outputs": [
    {
     "name": "stdout",
     "output_type": "stream",
     "text": [
      "مسیح عزیییییییزم مطمئنم از این پس نامِ تو کنار نامِ زنانِ آزاده ی جهان مینشیند و خود نمایی میکند و قرنها پس از تو وردِ زبانِ مردم دنیا خواهد شد...به خود میبالم که طرفدار و هواخواهِ توام دخترم...از دیدنِ خنده ات دلم غنج میرود ??????????\n",
      "مسیح عزییزم مطمئنم از این پس نام تو کنار نام زنان آزاده‌ی جهان می‌نشیند و خود نمایی می‌کند و قرنها پس از تو ورد زبان مردم دنیا خواهد شدبه خود می‌بالم که طرفدار و هواخواه توام دخترماز دیدن خنده‌ات دلم غنج می‌رود\n"
     ]
    }
   ],
   "source": [
    "print(test_raw_df.loc[431, \"sentence\"])\n",
    "print(clean_text(test_raw_df.loc[431, \"sentence\"]))"
   ],
   "metadata": {
    "collapsed": false,
    "ExecuteTime": {
     "end_time": "2024-01-28T21:19:46.248393700Z",
     "start_time": "2024-01-28T21:19:45.161805300Z"
    }
   },
   "id": "de561240fb094814",
   "execution_count": 3
  },
  {
   "cell_type": "code",
   "outputs": [
    {
     "name": "stdout",
     "output_type": "stream",
     "text": [
      "با آرزوی موفقیت و پیروزی #all_for_teammeli #ایران #جام_جهانی_۲۰۱۸ #بورس #سهام #ده_درصد\n",
      "با آرزوی موفقیت و پیروزی\n"
     ]
    }
   ],
   "source": [
    "print(test_raw_df.loc[6, \"sentence\"])\n",
    "print(clean_text(test_raw_df.loc[6, \"sentence\"]))"
   ],
   "metadata": {
    "collapsed": false,
    "ExecuteTime": {
     "end_time": "2024-01-28T21:19:52.564113400Z",
     "start_time": "2024-01-28T21:19:51.518247800Z"
    }
   },
   "id": "9431e9b778bf9054",
   "execution_count": 4
  },
  {
   "cell_type": "code",
   "outputs": [
    {
     "name": "stdout",
     "output_type": "stream",
     "text": [
      "با آرزوی موفقیت و پیروزی all for teammeli ایران جام جهانی 2018 بورس سهام ده درصد\n",
      "با آرزوی موفقیت و پیروزی\n"
     ]
    }
   ],
   "source": [
    "normalizer = Normalizer(full_cleaning=True)\n",
    "normalizer.remove_stop_word = False\n",
    "print(normalizer.normalize(test_raw_df.loc[6, \"sentence\"]))\n",
    "print(clean_text(test_raw_df.loc[6, \"sentence\"]))"
   ],
   "metadata": {
    "collapsed": false,
    "ExecuteTime": {
     "end_time": "2024-01-28T21:19:58.763446300Z",
     "start_time": "2024-01-28T21:19:57.652266500Z"
    }
   },
   "id": "caa28d455a45b675",
   "execution_count": 5
  },
  {
   "cell_type": "code",
   "outputs": [
    {
     "name": "stdout",
     "output_type": "stream",
     "text": [
      "file cache/3gram.bin already exist\n"
     ]
    },
    {
     "name": "stderr",
     "output_type": "stream",
     "text": [
      "/home/hamedhf/anaconda3/envs/DL-project/lib/python3.11/site-packages/dadmatools/pipeline/informal2formal/VerbHandler.py:52: FutureWarning: Series.__getitem__ treating keys as positions is deprecated. In a future version, integer keys will always be treated as labels (consistent with DataFrame behavior). To access a value by position, use `ser.iloc[pos]`\n",
      "  if row[2]:\n",
      "/home/hamedhf/anaconda3/envs/DL-project/lib/python3.11/site-packages/dadmatools/pipeline/informal2formal/VerbHandler.py:53: FutureWarning: Series.__getitem__ treating keys as positions is deprecated. In a future version, integer keys will always be treated as labels (consistent with DataFrame behavior). To access a value by position, use `ser.iloc[pos]`\n",
      "  row[2] = normalizer.normalize(row[2])\n",
      "/home/hamedhf/anaconda3/envs/DL-project/lib/python3.11/site-packages/dadmatools/pipeline/informal2formal/VerbHandler.py:53: FutureWarning: Series.__setitem__ treating keys as positions is deprecated. In a future version, integer keys will always be treated as labels (consistent with DataFrame behavior). To set a value by position, use `ser.iloc[pos] = value`\n",
      "  row[2] = normalizer.normalize(row[2])\n",
      "/home/hamedhf/anaconda3/envs/DL-project/lib/python3.11/site-packages/dadmatools/pipeline/informal2formal/VerbHandler.py:54: FutureWarning: Series.__getitem__ treating keys as positions is deprecated. In a future version, integer keys will always be treated as labels (consistent with DataFrame behavior). To access a value by position, use `ser.iloc[pos]`\n",
      "  bons[row[2]] = {'type': Formality.formal, 'time': VerbTime.past}\n",
      "/home/hamedhf/anaconda3/envs/DL-project/lib/python3.11/site-packages/dadmatools/pipeline/informal2formal/VerbHandler.py:55: FutureWarning: Series.__getitem__ treating keys as positions is deprecated. In a future version, integer keys will always be treated as labels (consistent with DataFrame behavior). To access a value by position, use `ser.iloc[pos]`\n",
      "  if row[3]:\n",
      "/home/hamedhf/anaconda3/envs/DL-project/lib/python3.11/site-packages/dadmatools/pipeline/informal2formal/VerbHandler.py:56: FutureWarning: Series.__getitem__ treating keys as positions is deprecated. In a future version, integer keys will always be treated as labels (consistent with DataFrame behavior). To access a value by position, use `ser.iloc[pos]`\n",
      "  row[3] = normalizer.normalize(row[3])\n",
      "/home/hamedhf/anaconda3/envs/DL-project/lib/python3.11/site-packages/dadmatools/pipeline/informal2formal/VerbHandler.py:56: FutureWarning: Series.__setitem__ treating keys as positions is deprecated. In a future version, integer keys will always be treated as labels (consistent with DataFrame behavior). To set a value by position, use `ser.iloc[pos] = value`\n",
      "  row[3] = normalizer.normalize(row[3])\n",
      "/home/hamedhf/anaconda3/envs/DL-project/lib/python3.11/site-packages/dadmatools/pipeline/informal2formal/VerbHandler.py:57: FutureWarning: Series.__getitem__ treating keys as positions is deprecated. In a future version, integer keys will always be treated as labels (consistent with DataFrame behavior). To access a value by position, use `ser.iloc[pos]`\n",
      "  bons[row[3]] = {'type': Formality.formal, 'time': VerbTime.present}\n",
      "/home/hamedhf/anaconda3/envs/DL-project/lib/python3.11/site-packages/dadmatools/pipeline/informal2formal/VerbHandler.py:58: FutureWarning: Series.__getitem__ treating keys as positions is deprecated. In a future version, integer keys will always be treated as labels (consistent with DataFrame behavior). To access a value by position, use `ser.iloc[pos]`\n",
      "  if row[10]:\n",
      "/home/hamedhf/anaconda3/envs/DL-project/lib/python3.11/site-packages/dadmatools/pipeline/informal2formal/VerbHandler.py:62: FutureWarning: Series.__getitem__ treating keys as positions is deprecated. In a future version, integer keys will always be treated as labels (consistent with DataFrame behavior). To access a value by position, use `ser.iloc[pos]`\n",
      "  if row[11]:\n",
      "/home/hamedhf/anaconda3/envs/DL-project/lib/python3.11/site-packages/dadmatools/pipeline/informal2formal/VerbHandler.py:59: FutureWarning: Series.__getitem__ treating keys as positions is deprecated. In a future version, integer keys will always be treated as labels (consistent with DataFrame behavior). To access a value by position, use `ser.iloc[pos]`\n",
      "  bs = row[10].split()\n",
      "/home/hamedhf/anaconda3/envs/DL-project/lib/python3.11/site-packages/dadmatools/pipeline/informal2formal/VerbHandler.py:61: FutureWarning: Series.__getitem__ treating keys as positions is deprecated. In a future version, integer keys will always be treated as labels (consistent with DataFrame behavior). To access a value by position, use `ser.iloc[pos]`\n",
      "  bons[b] = {'type': Formality.informal, 'time': VerbTime.past, 'formal': row[2]}\n",
      "/home/hamedhf/anaconda3/envs/DL-project/lib/python3.11/site-packages/dadmatools/pipeline/informal2formal/VerbHandler.py:63: FutureWarning: Series.__getitem__ treating keys as positions is deprecated. In a future version, integer keys will always be treated as labels (consistent with DataFrame behavior). To access a value by position, use `ser.iloc[pos]`\n",
      "  bs = row[11].split()\n",
      "/home/hamedhf/anaconda3/envs/DL-project/lib/python3.11/site-packages/dadmatools/pipeline/informal2formal/VerbHandler.py:65: FutureWarning: Series.__getitem__ treating keys as positions is deprecated. In a future version, integer keys will always be treated as labels (consistent with DataFrame behavior). To access a value by position, use `ser.iloc[pos]`\n",
      "  bons[b] = {'type': Formality.informal, 'time': VerbTime.present, 'formal': row[3]}\n"
     ]
    },
    {
     "name": "stdout",
     "output_type": "stream",
     "text": [
      "عباس یه قدمی قصاص، جامعه باشریک شدن در نجاتش میتونه از بازتولید خشم و ریخته شدن خونی دوباره جلوگیری کنه #کودک_مجرم_نیست\n",
      " عباس یک قدمی قصاص ، جامعه باشریک شدن در نجاتش می‌تواند از بازتولید خشم و ریخته شدن خونی دوباره جلوگیری بکند #کودک_مجرم_نیست\n"
     ]
    }
   ],
   "source": [
    "# from dadmatools.pipeline.informal2formal.main import Informal2Formal\n",
    "# \n",
    "# translator = Informal2Formal()\n",
    "# s328 = test_df.loc[328, \"sentence\"]\n",
    "# print(s328)\n",
    "# print(translator.translate(s328))"
   ],
   "metadata": {
    "collapsed": false,
    "ExecuteTime": {
     "end_time": "2024-01-28T20:55:11.075919200Z",
     "start_time": "2024-01-28T20:54:36.111221800Z"
    }
   },
   "id": "1bd1b96c15d517ad",
   "execution_count": 19
  },
  {
   "cell_type": "code",
   "outputs": [],
   "source": [],
   "metadata": {
    "collapsed": false,
    "ExecuteTime": {
     "start_time": "2024-01-28T20:47:25.707185900Z"
    }
   },
   "id": "33ce38a5e02d7316"
  }
 ],
 "metadata": {
  "kernelspec": {
   "display_name": "Python 3",
   "language": "python",
   "name": "python3"
  },
  "language_info": {
   "codemirror_mode": {
    "name": "ipython",
    "version": 2
   },
   "file_extension": ".py",
   "mimetype": "text/x-python",
   "name": "python",
   "nbconvert_exporter": "python",
   "pygments_lexer": "ipython2",
   "version": "2.7.6"
  }
 },
 "nbformat": 4,
 "nbformat_minor": 5
}
